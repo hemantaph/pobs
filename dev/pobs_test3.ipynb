{
 "cells": [
  {
   "cell_type": "code",
   "execution_count": 117,
   "metadata": {},
   "outputs": [],
   "source": [
    "import numpy as np\n",
    "from pobs.utils import get_param_from_json, save_json, load_json, load_pickle, load_hdf5, save_hdf5\n",
    "import matplotlib.pyplot as plt\n",
    "import pobs"
   ]
  },
  {
   "cell_type": "code",
   "execution_count": 108,
   "metadata": {},
   "outputs": [
    {
     "data": {
      "text/plain": [
       "<module 'pobs.pobs' from '/Users/phurailatpamhemantakumar/phd/mypackages/pobs/pobs/pobs.py'>"
      ]
     },
     "execution_count": 108,
     "metadata": {},
     "output_type": "execute_result"
    }
   ],
   "source": [
    "import pobs\n",
    "from pobs.pobs import POBS\n",
    "import pobs.utils as utils\n",
    "import pobs.mp as mp\n",
    "import pobs.modelgenerator as modelgenerator\n",
    "\n",
    "from importlib import reload\n",
    "reload(pobs)\n",
    "reload(pobs.utils)\n",
    "reload(pobs.modelgenerator)\n",
    "reload(pobs.mp)\n",
    "reload(pobs.pobs)"
   ]
  },
  {
   "cell_type": "code",
   "execution_count": 140,
   "metadata": {},
   "outputs": [
    {
     "name": "stdout",
     "output_type": "stream",
     "text": [
      "astro_lensed is None\n",
      "getting default astro_lensed data_dict from pobs module\n",
      "creating a new astro_lensed model...\n",
      "astro_unlensed is None\n",
      "getting default astro_unlensed data_dict from pobs module\n",
      "creating a new astro_unlensed1 model...\n",
      "creating a new astro_unlensed2 model...\n",
      "pe_prior is None\n",
      "getting default pe_prior data_dict from pobs module\n",
      "creating a new pe_prior model...\n",
      "creating a new posterior1 model...\n",
      "creating a new posterior2 model...\n",
      "creating a new posterior_combine model...\n"
     ]
    }
   ],
   "source": [
    "test = pobs.POBS(\n",
    "    posterior1='/Users/phurailatpamhemantakumar/phd/mypackages/pobs/all_data/pe_results/unlensed/label_index_1_mc_53_q_0p9_time_1249637317_data0_1249637317-2160294_analysis_H1L1V1_result.hdf5',\n",
    "    posterior2='/Users/phurailatpamhemantakumar/phd/mypackages/pobs/all_data/pe_results/unlensed/label_index_2_mc_33_q_0p6_time_1240188813_data0_1240188813-6522114_analysis_H1L1V1_result.hdf5',\n",
    "    # create_new=True,\n",
    "    kde_model_type=\"gaussian_kde\",\n",
    "    spin_zero=True,\n",
    "    npool=1,\n",
    ")\n",
    "\n",
    "# test = pobs.POBS(\n",
    "#     posterior1=None,\n",
    "#     posterior2=None,\n",
    "#     create_new=True,\n",
    "#     spin_zero=True,\n",
    "#     kde_model_type=\"jax_gaussian_kde\",\n",
    "# )"
   ]
  },
  {
   "cell_type": "code",
   "execution_count": 116,
   "metadata": {},
   "outputs": [],
   "source": [
    "# npool=1, size=500: 13.4s\n",
    "# npool=2, size=500: 26.8s\n",
    "# npool=8, size=500: 51.s\n",
    "# for loop iter=1, 14.7s\n",
    "# for loop iter=8, 17.5s\n",
    "bf = test.bayes_factor_multiprocessing(sample_size=500)"
   ]
  },
  {
   "cell_type": "code",
   "execution_count": 155,
   "metadata": {},
   "outputs": [],
   "source": [
    "bf = test.bayes_factor(sample_size=2000)"
   ]
  },
  {
   "cell_type": "code",
   "execution_count": 142,
   "metadata": {},
   "outputs": [
    {
     "data": {
      "text/plain": [
       "<module 'pobs_mp' from '/Users/phurailatpamhemantakumar/phd/mypackages/pobs/dev/pobs_mp.py'>"
      ]
     },
     "execution_count": 142,
     "metadata": {},
     "output_type": "execute_result"
    }
   ],
   "source": [
    "from multiprocessing import Pool\n",
    "import pobs_mp\n",
    "reload(pobs_mp)"
   ]
  },
  {
   "cell_type": "code",
   "execution_count": 153,
   "metadata": {},
   "outputs": [
    {
     "name": "stdout",
     "output_type": "stream",
     "text": [
      "astro_lensed is Noneastro_lensed is Noneastro_lensed is Noneastro_lensed is None\n",
      "\n",
      "\n",
      "\n",
      "getting default astro_lensed data_dict from pobs modulegetting default astro_lensed data_dict from pobs modulegetting default astro_lensed data_dict from pobs modulegetting default astro_lensed data_dict from pobs module\n",
      "\n",
      "\n",
      "\n",
      "creating a new astro_lensed model...\n",
      "astro_unlensed is Nonecreating a new astro_lensed model...\n",
      "creating a new astro_lensed model...creating a new astro_lensed model...\n",
      "\n",
      "getting default astro_unlensed data_dict from pobs module\n",
      "\n",
      "astro_unlensed is Noneastro_unlensed is Noneastro_unlensed is None\n",
      "\n",
      "\n",
      "getting default astro_unlensed data_dict from pobs modulegetting default astro_unlensed data_dict from pobs modulegetting default astro_unlensed data_dict from pobs module\n",
      "\n",
      "\n",
      "creating a new astro_unlensed1 model...\n",
      "creating a new astro_unlensed2 model...\n",
      "pe_prior is None\n",
      "getting default pe_prior data_dict from pobs module\n",
      "creating a new pe_prior model...\n",
      "creating a new astro_unlensed1 model...\n",
      "creating a new astro_unlensed2 model...\n",
      "creating a new astro_unlensed1 model...\n",
      "creating a new astro_unlensed1 model...creating a new posterior1 model...\n",
      "\n",
      "creating a new posterior2 model...pe_prior is Nonecreating a new astro_unlensed2 model...\n",
      "creating a new astro_unlensed2 model...\n",
      "\n",
      "\n",
      "getting default pe_prior data_dict from pobs module\n",
      "pe_prior is None\n",
      "getting default pe_prior data_dict from pobs module\n",
      "creating a new pe_prior model...\n",
      "creating a new posterior_combine model...\n",
      "pe_prior is None\n",
      "getting default pe_prior data_dict from pobs module\n",
      "creating a new pe_prior model...\n",
      "creating a new pe_prior model...\n",
      "creating a new posterior1 model...\n",
      "creating a new posterior2 model...\n",
      "creating a new posterior1 model...creating a new posterior1 model...\n",
      "creating a new posterior_combine model...\n",
      "\n",
      "creating a new posterior2 model...\n",
      "creating a new posterior_combine model...\n",
      "creating a new posterior2 model...\n",
      "creating a new posterior_combine model...\n"
     ]
    }
   ],
   "source": [
    "# 25.6s 4 processes\n",
    "npool = 4\n",
    "input_arguments = [[50, ] for _ in range(npool)]\n",
    "results = []\n",
    "with Pool(processes=npool) as pool:\n",
    "    for result in pool.map(pobs_mp.pobs_mp, input_arguments):\n",
    "        results.append(list(result))\n",
    "\n",
    "# # with for loop\n",
    "# for input_argument in input_arguments:\n",
    "#     results.append(pobs_mp.pobs_mp(input_argument))"
   ]
  },
  {
   "cell_type": "code",
   "execution_count": 154,
   "metadata": {},
   "outputs": [
    {
     "data": {
      "text/plain": [
       "[[2.686296483115308e-20, -19.570846056494148],\n",
       " [2.686296483115308e-20, -19.570846056494148],\n",
       " [2.686296483115308e-20, -19.570846056494148],\n",
       " [2.686296483115308e-20, -19.570846056494148]]"
      ]
     },
     "execution_count": 154,
     "metadata": {},
     "output_type": "execute_result"
    }
   ],
   "source": [
    "results"
   ]
  },
  {
   "cell_type": "code",
   "execution_count": 133,
   "metadata": {},
   "outputs": [],
   "source": [
    "import numpy as np\n",
    "from pobs.utils import (\n",
    "    load_json,\n",
    "    load_pickle,\n",
    ")\n",
    "\n",
    "\n",
    "def get_pdf_fuctions(model_name = 'astro_lensed', pobs_directory=\"./pobs_data\"):\n",
    "\n",
    "    sample_size_original = input_arguments[0]  \n",
    "    sample_size = sample_size_original \n",
    "\n",
    "    kde = load_pickle(f\"{pobs_directory}/model_path_{model_name}.pkl\")\n",
    "    scaler = load_pickle(f\"{pobs_directory}/scaler_path_{model_name}.pkl\")\n",
    "    min_max = load_json(f\"{pobs_directory}/min_max_path_{model_name}.pkl\")\n",
    "\n",
    "    return kde, scaler, min_max\n",
    "\n",
    "def resample(size=10000, model_path=None, scaler_path=None, min_max_path=None, batch_size=None):\n",
    "\n",
    "    if model_path is None:\n",
    "        model_path = self.model_path\n",
    "    if scaler_path is None:\n",
    "        scaler_path = self.scaler_path\n",
    "    if min_max_path is None:\n",
    "        min_max_path = self.min_max_path\n",
    "    if label_list is None:\n",
    "        label_list = self.path_dict['label_list']\n",
    "    if batch_size is None:\n",
    "        batch_size = self.batch_size\n",
    "        if batch_size > size:\n",
    "            batch_size = size\n",
    "        \n",
    "\n",
    "    # get the model, scaler and min_max\n",
    "    kde, scaler, min_max = self.get_model_scaler_minmax(model_path, scaler_path, min_max_path)\n",
    "\n",
    "    result_dict = {}\n",
    "    for i in range(len(label_list)):\n",
    "        result_dict[label_list[i]] = np.array([])\n",
    "\n",
    "    while True:\n",
    "\n",
    "        # generate random data\n",
    "        # kde.set_bandwidth(bw_method=kde.factor * self.bandwidth_factor)\n",
    "        if self.model_type == \"gaussian_kde\":\n",
    "            data = kde.resample(batch_size).T\n",
    "        elif self.model_type == \"jax_gaussian_kde\":\n",
    "            key = random.PRNGKey(seed=np.random.randint(0, 1000000))\n",
    "            data = kde.resample(key, (batch_size,)).T\n",
    "            data = np.array(data)\n",
    "\n",
    "        # inverse transform the data\n",
    "        data = scaler.inverse_transform(data)\n",
    "\n",
    "        j = 0\n",
    "        idx = np.ones(data.shape[0], dtype=bool)\n",
    "        for key, value in min_max.items():\n",
    "            min_data = value['min_data']\n",
    "            max_data = value['max_data']\n",
    "            data_ = data[:, j]\n",
    "            idx &= (data_<min_data) | (data_>max_data)\n",
    "        \n",
    "        for i in range(len(label_list)):\n",
    "            result_dict[label_list[i]] = np.concatenate([result_dict[label_list[i]], data[:, i][~idx]])\n",
    "\n",
    "        final_size = result_dict[label_list[0]].shape[0]\n",
    "        batch_size = (size - final_size) + 1\n",
    "        if final_size >= size:\n",
    "            for key, value in result_dict.items():\n",
    "                result_dict[key] = value[:size]\n",
    "            break\n",
    "\n",
    "    return result_dict"
   ]
  },
  {
   "cell_type": "code",
   "execution_count": 134,
   "metadata": {},
   "outputs": [],
   "source": [
    "astro_lensed = get_pdf_fuctions()"
   ]
  },
  {
   "cell_type": "code",
   "execution_count": null,
   "metadata": {},
   "outputs": [],
   "source": [
    "astro_lensed"
   ]
  },
  {
   "cell_type": "code",
   "execution_count": 127,
   "metadata": {},
   "outputs": [
    {
     "data": {
      "text/plain": [
       "array([[-0.61503638, -0.74866135,  0.24152157, -1.44291363, -1.33853124,\n",
       "         1.47327916, -1.57709265,  1.19461686,  1.24707814,  0.74584194],\n",
       "       [ 0.10040368, -0.3745733 ,  0.3267378 , -1.56910991, -0.96340884,\n",
       "         0.85243165, -1.42487465,  0.1293556 ,  1.5205656 ,  0.77866181],\n",
       "       [-0.31384805, -0.72872967,  1.00996818,  1.21904015, -0.99859245,\n",
       "         1.60245971, -0.57532634, -0.76385511,  0.76484034,  0.85692834],\n",
       "       [ 1.59527263,  1.64104488, -1.91212678,  1.75121268,  2.60774335,\n",
       "         0.44304811, -0.9659416 , -0.57801501,  1.06413758,  1.14607394],\n",
       "       [ 0.73530195, -0.4550562 , -0.77174412, -0.8638894 ,  1.68626801,\n",
       "        -0.80272827, -1.76674764, -1.18009203,  1.19732631,  0.9298448 ],\n",
       "       [ 0.78229582,  0.28480183,  0.49014744, -2.36967677, -0.20982676,\n",
       "        -0.27754086, -2.53044786,  0.92147707,  0.41904365,  1.27092107],\n",
       "       [ 0.77549517, -1.64878099,  1.05636498, -2.06376538, -0.22696937,\n",
       "         0.36604402, -2.15075522, -0.06521441,  0.98244403,  1.3796093 ],\n",
       "       [-0.87782854, -0.56613299,  0.70226635,  0.71575846, -2.47251848,\n",
       "         0.09001764,  0.60029673,  0.20534669,  0.2712362 ,  0.62096811]])"
      ]
     },
     "execution_count": 127,
     "metadata": {},
     "output_type": "execute_result"
    }
   ],
   "source": [
    "input_arguments = [10]\n",
    "astro_lensed_kde_ = bayes_factor_multiprocessing(input_arguments)\n",
    "astro_lensed_kde_.resample(10)"
   ]
  },
  {
   "cell_type": "code",
   "execution_count": null,
   "metadata": {},
   "outputs": [],
   "source": []
  },
  {
   "cell_type": "code",
   "execution_count": 97,
   "metadata": {},
   "outputs": [],
   "source": [
    "# with multiprocessing, 4 cores: 40.8/4 + overhead ~ 11s\n",
    "# bf = test.po_hemanta_numerator(sample_size=500)"
   ]
  },
  {
   "cell_type": "code",
   "execution_count": 85,
   "metadata": {},
   "outputs": [
    {
     "data": {
      "text/plain": [
       "(8.754331644107801e-14, -13.057777004846763)"
      ]
     },
     "execution_count": 85,
     "metadata": {},
     "output_type": "execute_result"
    }
   ],
   "source": [
    "bf"
   ]
  },
  {
   "cell_type": "code",
   "execution_count": 99,
   "metadata": {},
   "outputs": [],
   "source": [
    "bf = test.bayes_factor(sample_size=500)"
   ]
  },
  {
   "cell_type": "code",
   "execution_count": 100,
   "metadata": {},
   "outputs": [
    {
     "data": {
      "text/plain": [
       "(1.3278202411787063e-11, -10.876860715290531)"
      ]
     },
     "execution_count": 100,
     "metadata": {},
     "output_type": "execute_result"
    }
   ],
   "source": [
    "bf"
   ]
  },
  {
   "cell_type": "code",
   "execution_count": null,
   "metadata": {},
   "outputs": [],
   "source": []
  },
  {
   "cell_type": "code",
   "execution_count": 19,
   "metadata": {},
   "outputs": [
    {
     "data": {
      "text/plain": [
       "[100, 100, 100, 100]"
      ]
     },
     "execution_count": 19,
     "metadata": {},
     "output_type": "execute_result"
    }
   ],
   "source": [
    "# non-jax: size: 10000, time=40.08s, bf = (3.813393853299081e-15, -14.418688337794492)\n",
    "# jax: size: 10000, bf = (7.523307222052605e-17, -16.12359120295313)\n",
    "\n",
    "# non-jax: size=100000, 6m46s, bf = (2.4315613155861754e-14, -13.61411477454944)\n",
    "# jax: size: 100000, bf = (1.3828888913558608e-13, -12.859212712016124)\n",
    "bf"
   ]
  },
  {
   "cell_type": "code",
   "execution_count": null,
   "metadata": {},
   "outputs": [],
   "source": [
    "import get_model\n",
    "import load_model\n",
    "# import path dict all\n",
    "\n",
    "def bayes_factor_mp(input_arguments):\n",
    "\n",
    "    size = input_arguments[0]\n",
    "    path_dict = input_arguments[1]\n",
    "    # load the path dict all json file\n",
    "    # get all model, scalar, min_max\n",
    "    # load model\n",
    "    # find pdf\n",
    "\n"
   ]
  }
 ],
 "metadata": {
  "kernelspec": {
   "display_name": "ler",
   "language": "python",
   "name": "ler"
  },
  "language_info": {
   "codemirror_mode": {
    "name": "ipython",
    "version": 3
   },
   "file_extension": ".py",
   "mimetype": "text/x-python",
   "name": "python",
   "nbconvert_exporter": "python",
   "pygments_lexer": "ipython3",
   "version": "3.10.14"
  }
 },
 "nbformat": 4,
 "nbformat_minor": 2
}
