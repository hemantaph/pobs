{
 "cells": [
  {
   "cell_type": "code",
   "execution_count": 1,
   "metadata": {},
   "outputs": [],
   "source": [
    "import numpy as np\n",
    "from pobs.utils import get_param_from_json, save_json, load_json, load_pickle, load_hdf5, save_hdf5, append_json, get_dict_or_file\n",
    "import matplotlib.pyplot as plt\n",
    "import pobs"
   ]
  },
  {
   "cell_type": "code",
   "execution_count": 53,
   "metadata": {},
   "outputs": [
    {
     "data": {
      "text/plain": [
       "<module 'pobs.pobs' from '/home/hemantakumar.phurailatpam/pobs/pobs/pobs.py'>"
      ]
     },
     "execution_count": 53,
     "metadata": {},
     "output_type": "execute_result"
    }
   ],
   "source": [
    "import pobs\n",
    "from pobs.pobs import POBS\n",
    "import pobs.utils as utils\n",
    "import pobs.mp as mp\n",
    "import pobs.modelgenerator as modelgenerator\n",
    "\n",
    "from importlib import reload\n",
    "reload(pobs)\n",
    "reload(pobs.utils)\n",
    "reload(pobs.modelgenerator)\n",
    "reload(pobs.mp)\n",
    "reload(pobs.pobs)"
   ]
  },
  {
   "cell_type": "code",
   "execution_count": 4,
   "metadata": {},
   "outputs": [],
   "source": [
    "def convert_to_json(\n",
    "    file_dir,\n",
    "    dir_ = '/home/hemantakumar.phurailatpam/pobs/processed_data/pe_results/unlensed',\n",
    "    ):\n",
    "    \n",
    "    posterior = get_dict_or_file(file_dir)\n",
    "    param_ = {}\n",
    "    param_list = ['mass_1','mass_2','ra','dec', 'theta_jn','chi_eff','luminosity_distance', 'geocent_time']\n",
    "    for key in param_list:\n",
    "        param_[key] = np.array(posterior['posterior'][key])\n",
    "\n",
    "    # name should include Mc, q and geocent-time\n",
    "    Mc = (param_['mass_1']*param_['mass_2'])**(3/5)/(param_['mass_1']+param_['mass_2'])**(1/5)\n",
    "    Mc = np.median(Mc)\n",
    "    Mc = f'Mc_{Mc:.2f}'\n",
    "    q = param_['mass_2']/param_['mass_1']\n",
    "    q = np.median(q)\n",
    "    q = f'q_{q:.2f}'\n",
    "    geocent_time = np.median(param_['geocent_time'])\n",
    "    geocent_time = f't_{geocent_time:.2f}'\n",
    "    name = f'{dir_}/{Mc}_{q}_{geocent_time}.json'\n",
    "    append_json(name, param_, replace=False);\n"
   ]
  },
  {
   "cell_type": "code",
   "execution_count": 5,
   "metadata": {},
   "outputs": [
    {
     "name": "stdout",
     "output_type": "stream",
     "text": [
      "No hdf5 file found in  /home/hemantakumar.phurailatpam/event-catalogue/ini_automation/outdir_61_mc_27_q_0p9_time_1268203839/result/\n",
      "No hdf5 file found in  /home/hemantakumar.phurailatpam/event-catalogue/ini_automation/outdir_154_mc_36_q_0p5_time_1240948205/result/\n",
      "No hdf5 file found in  /home/hemantakumar.phurailatpam/event-catalogue/ini_automation/outdir_74_mc_20_q_0p9_time_1254574838/result/\n",
      "hdf5 file found in  /home/hemantakumar.phurailatpam/event-catalogue/ini_automation/outdir_55_mc_49_q_0p7_time_1247724935/result/\n",
      "No hdf5 file found in  /home/hemantakumar.phurailatpam/event-catalogue/ini_automation/outdir_116_mc_22_q_0p8_time_1247493549/result/\n",
      "No hdf5 file found in  /home/hemantakumar.phurailatpam/event-catalogue/ini_automation/outdir_110_mc_28_q_0p7_time_1268780636/result/\n",
      "No hdf5 file found in  /home/hemantakumar.phurailatpam/event-catalogue/ini_automation/outdir_160_mc_30_q_0p6_time_1243637507/result/\n",
      "No hdf5 file found in  /home/hemantakumar.phurailatpam/event-catalogue/ini_automation/outdir_76_mc_66_q_0p8_time_1261126443/result/\n",
      "No hdf5 file found in  /home/hemantakumar.phurailatpam/event-catalogue/ini_automation/outdir_111_mc_49_q_0p8_time_1259689735/result/\n",
      "hdf5 file found in  /home/hemantakumar.phurailatpam/event-catalogue/ini_automation/outdir_53_mc_51_q_0p7_time_1244800268/result/\n",
      "No hdf5 file found in  /home/hemantakumar.phurailatpam/event-catalogue/ini_automation/outdir_117_mc_54_q_0p9_time_1260802604/result/\n",
      "hdf5 file found in  /home/hemantakumar.phurailatpam/event-catalogue/ini_automation/outdir_47_mc_43_q_0p5_time_1269063675/result/\n",
      "No hdf5 file found in  /home/hemantakumar.phurailatpam/event-catalogue/ini_automation/outdir_153_mc_44_q_0p8_time_1260898195/result/\n",
      "No hdf5 file found in  /home/hemantakumar.phurailatpam/event-catalogue/ini_automation/outdir_108_mc_46_q_0p9_time_1259011497/result/\n",
      "No hdf5 file found in  /home/hemantakumar.phurailatpam/event-catalogue/ini_automation/outdir_125_mc_53_q_0p8_time_1239153989/result/\n",
      "No hdf5 file found in  /home/hemantakumar.phurailatpam/event-catalogue/ini_automation/outdir_105_mc_24_q_0p4_time_1242938367/result/\n",
      "No hdf5 file found in  /home/hemantakumar.phurailatpam/event-catalogue/ini_automation/outdir_167_mc_44_q_0p3_time_1260720742/result/\n",
      "No hdf5 file found in  /home/hemantakumar.phurailatpam/event-catalogue/ini_automation/outdir_92_mc_35_q_0p9_time_1246466681/result/\n",
      "No hdf5 file found in  /home/hemantakumar.phurailatpam/event-catalogue/ini_automation/outdir_99_mc_23_q_0p9_time_1248443184/result/\n",
      "No hdf5 file found in  /home/hemantakumar.phurailatpam/event-catalogue/ini_automation/outdir_165_mc_60_q_0p9_time_1253412890/result/\n",
      "No hdf5 file found in  /home/hemantakumar.phurailatpam/event-catalogue/ini_automation/outdir_100_mc_50_q_0p8_time_1238395121/result/\n",
      "hdf5 file found in  /home/hemantakumar.phurailatpam/event-catalogue/ini_automation/outdir_54_mc_21_q_0p7_time_1268265210/result/\n",
      "No hdf5 file found in  /home/hemantakumar.phurailatpam/event-catalogue/ini_automation/outdir_73_mc_43_q_0p8_time_1252772725/result/\n",
      "No hdf5 file found in  /home/hemantakumar.phurailatpam/event-catalogue/ini_automation/outdir_94_mc_51_q_0p6_time_1260251679/result/\n",
      "hdf5 file found in  /home/hemantakumar.phurailatpam/event-catalogue/ini_automation/outdir_40_mc_26_q_0p8_time_1238331332/result/\n",
      "No hdf5 file found in  /home/hemantakumar.phurailatpam/event-catalogue/ini_automation/outdir_59_mc_38_q_0p6_time_1257817307/result/\n",
      "No hdf5 file found in  /home/hemantakumar.phurailatpam/event-catalogue/ini_automation/outdir_166_mc_49_q_0p8_time_1262590950/result/\n",
      "hdf5 file found in  /home/hemantakumar.phurailatpam/event-catalogue/ini_automation/outdir_56_mc_27_q_0p8_time_1249247324/result/\n",
      "hdf5 file found in  /home/hemantakumar.phurailatpam/event-catalogue/ini_automation/outdir_39_mc_21_q_0p3_time_1243026471/result/\n",
      "No hdf5 file found in  /home/hemantakumar.phurailatpam/event-catalogue/ini_automation/outdir_155_mc_38_q_0p9_time_1239467033/result/\n",
      "No hdf5 file found in  /home/hemantakumar.phurailatpam/event-catalogue/ini_automation/outdir_122_mc_27_q_0p8_time_1268543800/result/\n",
      "No hdf5 file found in  /home/hemantakumar.phurailatpam/event-catalogue/ini_automation/outdir_66_mc_31_q_0p9_time_1244917276/result/\n",
      "No hdf5 file found in  /home/hemantakumar.phurailatpam/event-catalogue/ini_automation/outdir_123_mc_51_q_0p6_time_1259319543/result/\n",
      "No hdf5 file found in  /home/hemantakumar.phurailatpam/event-catalogue/ini_automation/outdir_109_mc_21_q_0p3_time_1240340402/result/\n",
      "No hdf5 file found in  /home/hemantakumar.phurailatpam/event-catalogue/ini_automation/outdir_103_mc_33_q_0p3_time_1254231049/result/\n",
      "No hdf5 file found in  /home/hemantakumar.phurailatpam/event-catalogue/ini_automation/outdir_156_mc_64_q_0p8_time_1254610666/result/\n",
      "No hdf5 file found in  /home/hemantakumar.phurailatpam/event-catalogue/ini_automation/outdir_98_mc_21_q_0p9_time_1245354545/result/\n",
      "No hdf5 file found in  /home/hemantakumar.phurailatpam/event-catalogue/ini_automation/outdir_83_mc_68_q_0p9_time_1269082831/result/\n",
      "No hdf5 file found in  /home/hemantakumar.phurailatpam/event-catalogue/ini_automation/outdir_58_mc_36_q_0p3_time_1266261594/result/\n",
      "No hdf5 file found in  /home/hemantakumar.phurailatpam/event-catalogue/ini_automation/outdir_137_mc_45_q_0p8_time_1268210486/result/\n",
      "hdf5 file found in  /home/hemantakumar.phurailatpam/event-catalogue/ini_automation/outdir_43_mc_34_q_0p5_time_1255294676/result/\n",
      "No hdf5 file found in  /home/hemantakumar.phurailatpam/event-catalogue/ini_automation/outdir_87_mc_28_q_0p5_time_1258834963/result/\n",
      "No hdf5 file found in  /home/hemantakumar.phurailatpam/event-catalogue/ini_automation/outdir_149_mc_52_q_0p8_time_1254327381/result/\n",
      "No hdf5 file found in  /home/hemantakumar.phurailatpam/event-catalogue/ini_automation/outdir_169_mc_62_q_0p7_time_1256367167/result/\n",
      "No hdf5 file found in  /home/hemantakumar.phurailatpam/event-catalogue/ini_automation/outdir_69_mc_29_q_0p4_time_1258604411/result/\n",
      "No hdf5 file found in  /home/hemantakumar.phurailatpam/event-catalogue/ini_automation/outdir_114_mc_64_q_0p8_time_1248180788/result/\n",
      "No hdf5 file found in  /home/hemantakumar.phurailatpam/event-catalogue/ini_automation/outdir_131_mc_28_q_0p8_time_1255401140/result/\n",
      "No hdf5 file found in  /home/hemantakumar.phurailatpam/event-catalogue/ini_automation/outdir_85_mc_22_q_0p8_time_1244003089/result/\n",
      "No hdf5 file found in  /home/hemantakumar.phurailatpam/event-catalogue/ini_automation/outdir_159_mc_43_q_0p9_time_1262141724/result/\n",
      "No hdf5 file found in  /home/hemantakumar.phurailatpam/event-catalogue/ini_automation/outdir_162_mc_43_q_0p8_time_1243554442/result/\n",
      "No hdf5 file found in  /home/hemantakumar.phurailatpam/event-catalogue/ini_automation/outdir_141_mc_33_q_0p9_time_1239284407/result/\n",
      "No hdf5 file found in  /home/hemantakumar.phurailatpam/event-catalogue/ini_automation/outdir_138_mc_39_q_0p7_time_1244755797/result/\n",
      "hdf5 file found in  /home/hemantakumar.phurailatpam/event-catalogue/ini_automation/outdir_52_mc_43_q_0p5_time_1254811421/result/\n",
      "No hdf5 file found in  /home/hemantakumar.phurailatpam/event-catalogue/ini_automation/outdir_163_mc_28_q_0p4_time_1242071199/result/\n",
      "No hdf5 file found in  /home/hemantakumar.phurailatpam/event-catalogue/ini_automation/outdir_134_mc_32_q_0p5_time_1255784683/result/\n",
      "No hdf5 file found in  /home/hemantakumar.phurailatpam/event-catalogue/ini_automation/outdir_112_mc_48_q_0p7_time_1258747024/result/\n",
      "No hdf5 file found in  /home/hemantakumar.phurailatpam/event-catalogue/ini_automation/outdir_119_mc_48_q_0p6_time_1242768100/result/\n",
      "No hdf5 file found in  /home/hemantakumar.phurailatpam/event-catalogue/ini_automation/outdir_71_mc_39_q_0p7_time_1267303728/result/\n",
      "No hdf5 file found in  /home/hemantakumar.phurailatpam/event-catalogue/ini_automation/outdir_171_mc_38_q_0p9_time_1246734535/result/\n",
      "No hdf5 file found in  /home/hemantakumar.phurailatpam/event-catalogue/ini_automation/outdir_144_mc_27_q_0p6_time_1263285725/result/\n",
      "No hdf5 file found in  /home/hemantakumar.phurailatpam/event-catalogue/ini_automation/outdir_150_mc_47_q_0p8_time_1262710074/result/\n",
      "No hdf5 file found in  /home/hemantakumar.phurailatpam/event-catalogue/ini_automation/outdir_81_mc_23_q_0p8_time_1239622610/result/\n",
      "No hdf5 file found in  /home/hemantakumar.phurailatpam/event-catalogue/ini_automation/outdir_136_mc_26_q_0p8_time_1265860099/result/\n",
      "hdf5 file found in  /home/hemantakumar.phurailatpam/event-catalogue/ini_automation/outdir_42_mc_40_q_0p9_time_1249936287/result/\n",
      "No hdf5 file found in  /home/hemantakumar.phurailatpam/event-catalogue/ini_automation/outdir_143_mc_44_q_0p6_time_1267337055/result/\n",
      "No hdf5 file found in  /home/hemantakumar.phurailatpam/event-catalogue/ini_automation/outdir_95_mc_43_q_0p7_time_1246559714/result/\n",
      "No hdf5 file found in  /home/hemantakumar.phurailatpam/event-catalogue/ini_automation/outdir_168_mc_39_q_0p8_time_1247636592/result/\n",
      "hdf5 file found in  /home/hemantakumar.phurailatpam/event-catalogue/ini_automation/outdir_48_mc_35_q_0p8_time_1260417155/result/\n",
      "hdf5 file found in  /home/hemantakumar.phurailatpam/event-catalogue/ini_automation/outdir_49_mc_50_q_0p7_time_1241018025/result/\n",
      "No hdf5 file found in  /home/hemantakumar.phurailatpam/event-catalogue/ini_automation/outdir_102_mc_55_q_0p9_time_1261574467/result/\n",
      "No hdf5 file found in  /home/hemantakumar.phurailatpam/event-catalogue/ini_automation/outdir_127_mc_40_q_0p7_time_1268442230/result/\n",
      "No hdf5 file found in  /home/hemantakumar.phurailatpam/event-catalogue/ini_automation/outdir_133_mc_45_q_0p9_time_1254526962/result/\n",
      "No hdf5 file found in  /home/hemantakumar.phurailatpam/event-catalogue/ini_automation/outdir_130_mc_46_q_0p7_time_1238377609/result/\n",
      "No hdf5 file found in  /home/hemantakumar.phurailatpam/event-catalogue/ini_automation/outdir_151_mc_44_q_0p9_time_1268374201/result/\n",
      "No hdf5 file found in  /home/hemantakumar.phurailatpam/event-catalogue/ini_automation/outdir_63_mc_27_q_0p6_time_1263141181/result/\n",
      "No hdf5 file found in  /home/hemantakumar.phurailatpam/event-catalogue/ini_automation/outdir_132_mc_32_q_0p9_time_1262299647/result/\n",
      "No hdf5 file found in  /home/hemantakumar.phurailatpam/event-catalogue/ini_automation/outdir_107_mc_45_q_0p7_time_1259495351/result/\n"
     ]
    }
   ],
   "source": [
    "# get all dir name in the folder\n",
    "dir1 = '/home/hemantakumar.phurailatpam/event-catalogue/ini_automation/'\n",
    "import os\n",
    "files = os.listdir(dir1)\n",
    "files = [f for f in files if os.path.isdir(os.path.join(dir1, f))]\n",
    "# delete '__pycache__', 'outdir_test'\n",
    "files = [f for f in files if f not in ['__pycache__', 'outdir_test']]\n",
    "\n",
    "file_final = []\n",
    "for file in files:\n",
    "    dir2 = dir1 + file + '/result/'\n",
    "    # check for hdf5 file\n",
    "    files_ = os.listdir(dir2)\n",
    "    files_ = [f for f in files_ if f.endswith('.hdf5')]\n",
    "    if len(files_) == 0:\n",
    "        print('No hdf5 file found in ', dir2)\n",
    "        continue\n",
    "    else:\n",
    "        print('hdf5 file found in ', dir2)\n",
    "        convert_to_json(dir2 + files_[0])\n"
   ]
  },
  {
   "cell_type": "code",
   "execution_count": 12,
   "metadata": {},
   "outputs": [
    {
     "data": {
      "text/plain": [
       "(35,\n",
       " '/home/hemantakumar.phurailatpam/pobs/processed_data/pe_results/unlensed/Mc_36.16_q_0.78_t_1266619372.77.json')"
      ]
     },
     "execution_count": 12,
     "metadata": {},
     "output_type": "execute_result"
    }
   ],
   "source": [
    "# get all hdf5 files in the directory\n",
    "dir_ = '/home/hemantakumar.phurailatpam/pobs/processed_data/pe_results/unlensed/'\n",
    "files = os.listdir(dir_)\n",
    "files = [os.path.join(dir_, f) for f in files]\n",
    "len(files), files[0]"
   ]
  },
  {
   "cell_type": "code",
   "execution_count": 16,
   "metadata": {},
   "outputs": [
    {
     "name": "stdout",
     "output_type": "stream",
     "text": [
      "595\n"
     ]
    }
   ],
   "source": [
    "from scipy.special import comb\n",
    "import itertools\n",
    "\n",
    "len_ = len(files)\n",
    "size = 1000\n",
    "num_combinations = comb(len_, 2, exact=True)\n",
    "# Known number of combinations\n",
    "C = size if size < num_combinations else num_combinations\n",
    "print(C)\n",
    "len_ = (1 + np.sqrt(1 + 8 * C)) / 2\n",
    "# Define the index array\n",
    "idx_all = np.arange(0, int(len_))\n",
    "# # randomize idx_all\n",
    "# np.random.shuffle(idx_all)\n",
    "\n",
    "# Generate all possible two-element combinations\n",
    "combination_array = np.array(list(itertools.combinations(idx_all, 2)))\n",
    "idx1 = combination_array[:,0]\n",
    "idx2 = combination_array[:,1]\n"
   ]
  },
  {
   "cell_type": "code",
   "execution_count": 18,
   "metadata": {},
   "outputs": [
    {
     "data": {
      "text/plain": [
       "595"
      ]
     },
     "execution_count": 18,
     "metadata": {},
     "output_type": "execute_result"
    }
   ],
   "source": [
    "# setting up input_arguments\n",
    "input_arguments = []\n",
    "size = 1000000\n",
    "kde_model_type = \"jax_gaussian_kde\"\n",
    "for i in range(len(idx1)):\n",
    "    input_arguments.append([size, kde_model_type, files[idx1[i]], files[idx2[i]]])\n",
    "len(idx1)"
   ]
  },
  {
   "cell_type": "code",
   "execution_count": 26,
   "metadata": {},
   "outputs": [
    {
     "data": {
      "text/plain": [
       "15.70138888888889"
      ]
     },
     "execution_count": 26,
     "metadata": {},
     "output_type": "execute_result"
    }
   ],
   "source": [
    "len(input_arguments)*95/60/60"
   ]
  },
  {
   "cell_type": "code",
   "execution_count": 19,
   "metadata": {},
   "outputs": [
    {
     "data": {
      "text/plain": [
       "<module 'pobs_mp' from '/home/hemantakumar.phurailatpam/pobs/dev/pobs_mp.py'>"
      ]
     },
     "execution_count": 19,
     "metadata": {},
     "output_type": "execute_result"
    }
   ],
   "source": [
    "from multiprocessing import Pool\n",
    "import pobs_mp\n",
    "reload(pobs_mp)"
   ]
  },
  {
   "cell_type": "code",
   "execution_count": 21,
   "metadata": {},
   "outputs": [
    {
     "name": "stdout",
     "output_type": "stream",
     "text": [
      "astro_lensed is None\n",
      "getting default astro_lensed data_dict from pobs module\n"
     ]
    },
    {
     "name": "stdout",
     "output_type": "stream",
     "text": [
      "creating a new astro_lensed model...\n",
      "astro_unlensed is None\n",
      "getting default astro_unlensed data_dict from pobs module\n",
      "creating a new astro_unlensed1 model...\n",
      "creating a new astro_unlensed2 model...\n",
      "pe_prior is None\n",
      "getting default pe_prior data_dict from pobs module\n",
      "creating a new pe_prior model...\n",
      "posterior1 is None\n",
      "getting default posterior1 data_dict from pobs module\n",
      "posterior2 is None\n",
      "getting default posterior2 data_dict from pobs module\n",
      "creating a new posterior1 model...\n",
      "creating a new posterior2 model...\n",
      "creating a new posterior_combine model...\n"
     ]
    },
    {
     "data": {
      "text/plain": [
       "(np.float64(10678464340374.756), np.float64(13.02850880171368))"
      ]
     },
     "execution_count": 21,
     "metadata": {},
     "output_type": "execute_result"
    }
   ],
   "source": [
    "# save the right gaussian kde model\n",
    "test = pobs.POBS(\n",
    "    posterior1=None,\n",
    "    posterior2=None,\n",
    "    create_new=True,\n",
    "    kde_model_type=kde_model_type,\n",
    "    spin_zero=True,\n",
    ")\n",
    "# test.bayes_factor(sample_size=50)"
   ]
  },
  {
   "cell_type": "code",
   "execution_count": 23,
   "metadata": {},
   "outputs": [
    {
     "data": {
      "text/plain": [
       "(np.float64(992432579284.5095), np.float64(11.996701012725568))"
      ]
     },
     "execution_count": 23,
     "metadata": {},
     "output_type": "execute_result"
    }
   ],
   "source": [
    "# size=10000, time=50.3\n",
    "# size=1000000, time=1m 35s=95s\n",
    "test.bayes_factor(sample_size=1000000)"
   ]
  },
  {
   "cell_type": "code",
   "execution_count": 53,
   "metadata": {},
   "outputs": [],
   "source": [
    "# non-jax: sample_size=50, time=2m 18.7s, num_pair=28, \n",
    "# jax: sample_size=50, time=2m 18.7s, num_pair=28, \n",
    "results = []\n",
    "npool = 4\n",
    "# with Pool(processes=npool) as pool:\n",
    "#     for result in pool.map(pobs_mp.pobs_mp, input_arguments):\n",
    "#         results.append(list(result))\n",
    "# use for loop\n",
    "for i in range(len(input_arguments)):\n",
    "    results.append(pobs_mp.pobs_mp(input_arguments[i]))"
   ]
  },
  {
   "cell_type": "code",
   "execution_count": 54,
   "metadata": {},
   "outputs": [
    {
     "data": {
      "text/plain": [
       "[(0.009704223780248813, -2.013039197157287),\n",
       " (0.04315980474680531, -1.3649205287151889),\n",
       " (0.000869091987074163, -3.060934254202128),\n",
       " (1.0003489967538141e-09, -8.999848459077723),\n",
       " (0.6311608717088917, -0.199859932687805),\n",
       " (0.004256438003963368, -2.37095368782845),\n",
       " (2.3230836826000918e-12, -11.633935145672485),\n",
       " (0.001075988965104589, -2.96819218259041),\n",
       " (2.7073082129843652e-17, -16.567462299242898),\n",
       " (0.0003273649269909164, -3.4849678515894356)]"
      ]
     },
     "execution_count": 54,
     "metadata": {},
     "output_type": "execute_result"
    }
   ],
   "source": [
    "results"
   ]
  },
  {
   "cell_type": "code",
   "execution_count": null,
   "metadata": {},
   "outputs": [],
   "source": []
  },
  {
   "cell_type": "code",
   "execution_count": 55,
   "metadata": {},
   "outputs": [
    {
     "ename": "",
     "evalue": "",
     "output_type": "error",
     "traceback": [
      "\u001b[1;31mThe Kernel crashed while executing code in the current cell or a previous cell. \n",
      "\u001b[1;31mPlease review the code in the cell(s) to identify a possible cause of the failure. \n",
      "\u001b[1;31mClick <a href='https://aka.ms/vscodeJupyterKernelCrash'>here</a> for more info. \n",
      "\u001b[1;31mView Jupyter <a href='command:jupyter.viewOutput'>log</a> for further details."
     ]
    }
   ],
   "source": [
    "import os\n",
    "import numpy as np\n",
    "import pobs\n",
    "from scipy.special import comb\n",
    "import itertools\n",
    "import pobs_mp\n",
    "from pobs.utils import append_json\n",
    "\n",
    "\n",
    "# get all hdf5 files in the directory\n",
    "dir_ = '/home/hemantakumar.phurailatpam/pobs/processed_data/pe_results/unlensed/'\n",
    "files = os.listdir(dir_)\n",
    "files = [os.path.join(dir_, f) for f in files]\n",
    "\n",
    "len_ = len(files)\n",
    "size = 1000\n",
    "num_combinations = comb(len_, 2, exact=True)\n",
    "# Known number of combinations\n",
    "C = size if size < num_combinations else num_combinations\n",
    "print(C)\n",
    "len_ = (1 + np.sqrt(1 + 8 * C)) / 2\n",
    "# Define the index array\n",
    "idx_all = np.arange(0, int(len_))\n",
    "# # randomize idx_all\n",
    "# np.random.shuffle(idx_all)\n",
    "\n",
    "# Generate all possible two-element combinations\n",
    "combination_array = np.array(list(itertools.combinations(idx_all, 2)))\n",
    "idx1 = combination_array[:,0]\n",
    "idx2 = combination_array[:,1]\n",
    "\n",
    "# setting up input_arguments\n",
    "input_arguments = []\n",
    "size = 100000\n",
    "kde_model_type = \"jax_gaussian_kde\"\n",
    "for i in range(len(idx1)):\n",
    "    input_arguments.append([size, kde_model_type, files[idx1[i]], files[idx2[i]]])\n",
    "\n",
    "save_file_name = 'unlensed_pobs_results.json'\n",
    "\n",
    "for i in range(len(input_arguments)):\n",
    "    result = pobs_mp.pobs_mp(input_arguments[i])\n",
    "    dict_ = {\n",
    "        'bayes_factor': [result[0]],\n",
    "        'log10_bayes_factor': [result[1]],\n",
    "    }\n",
    "    append_json(save_file_name, dict_, replace=False)"
   ]
  },
  {
   "cell_type": "code",
   "execution_count": null,
   "metadata": {},
   "outputs": [],
   "source": []
  },
  {
   "cell_type": "code",
   "execution_count": null,
   "metadata": {},
   "outputs": [],
   "source": []
  },
  {
   "cell_type": "code",
   "execution_count": null,
   "metadata": {},
   "outputs": [],
   "source": []
  },
  {
   "cell_type": "code",
   "execution_count": null,
   "metadata": {},
   "outputs": [],
   "source": []
  },
  {
   "cell_type": "code",
   "execution_count": 37,
   "metadata": {},
   "outputs": [],
   "source": [
    "from pobs.utils import get_dict_or_file\n",
    "data_ = get_dict_or_file(input_arguments[0][2])"
   ]
  },
  {
   "cell_type": "code",
   "execution_count": 38,
   "metadata": {},
   "outputs": [
    {
     "data": {
      "text/plain": [
       "dict_keys(['mass_1', 'mass_2', 'ra', 'dec', 'theta_jn', 'chi_eff', 'luminosity_distance', 'geocent_time'])"
      ]
     },
     "execution_count": 38,
     "metadata": {},
     "output_type": "execute_result"
    }
   ],
   "source": [
    "data_.keys()"
   ]
  },
  {
   "cell_type": "code",
   "execution_count": 48,
   "metadata": {},
   "outputs": [
    {
     "name": "stdout",
     "output_type": "stream",
     "text": [
      "astro_lensed is None\n",
      "getting default astro_lensed data_dict from pobs module\n",
      "creating a new astro_lensed model...\n",
      "astro_unlensed is None\n",
      "getting default astro_unlensed data_dict from pobs module\n",
      "creating a new astro_unlensed1 model...\n",
      "creating a new astro_unlensed2 model...\n",
      "pe_prior is None\n",
      "getting default pe_prior data_dict from pobs module\n",
      "creating a new pe_prior model...\n",
      "dict_keys(['mass_1', 'mass_2', 'ra', 'dec', 'theta_jn', 'chi_eff', 'luminosity_distance', 'geocent_time'])\n"
     ]
    },
    {
     "ename": "ValueError",
     "evalue": "mass_1 is not present in the posterior2",
     "output_type": "error",
     "traceback": [
      "\u001b[0;31m---------------------------------------------------------------------------\u001b[0m",
      "\u001b[0;31mKeyError\u001b[0m                                  Traceback (most recent call last)",
      "File \u001b[0;32m~/pobs/pobs/utils.py:373\u001b[0m, in \u001b[0;36mdata_check_posterior\u001b[0;34m(posterior1, posterior2)\u001b[0m\n\u001b[1;32m    372\u001b[0m \u001b[38;5;28;01mtry\u001b[39;00m:\n\u001b[0;32m--> 373\u001b[0m     param_2[key] \u001b[38;5;241m=\u001b[39m np\u001b[38;5;241m.\u001b[39marray(\u001b[43mposterior2\u001b[49m\u001b[43m[\u001b[49m\u001b[38;5;124;43m'\u001b[39;49m\u001b[38;5;124;43mposterior\u001b[39;49m\u001b[38;5;124;43m'\u001b[39;49m\u001b[43m]\u001b[49m[key])\n\u001b[1;32m    374\u001b[0m \u001b[38;5;28;01mexcept\u001b[39;00m:\n",
      "\u001b[0;31mKeyError\u001b[0m: 'posterior'",
      "\nDuring handling of the above exception, another exception occurred:\n",
      "\u001b[0;31mValueError\u001b[0m                                Traceback (most recent call last)",
      "Cell \u001b[0;32mIn[48], line 3\u001b[0m\n\u001b[1;32m      1\u001b[0m \u001b[38;5;28;01mimport\u001b[39;00m \u001b[38;5;21;01mpobs\u001b[39;00m\n\u001b[0;32m----> 3\u001b[0m test \u001b[38;5;241m=\u001b[39m \u001b[43mpobs\u001b[49m\u001b[38;5;241;43m.\u001b[39;49m\u001b[43mPOBS\u001b[49m\u001b[43m(\u001b[49m\n\u001b[1;32m      4\u001b[0m \u001b[43m        \u001b[49m\u001b[43mposterior1\u001b[49m\u001b[38;5;241;43m=\u001b[39;49m\u001b[43minput_arguments\u001b[49m\u001b[43m[\u001b[49m\u001b[38;5;241;43m0\u001b[39;49m\u001b[43m]\u001b[49m\u001b[43m[\u001b[49m\u001b[38;5;241;43m2\u001b[39;49m\u001b[43m]\u001b[49m\u001b[43m,\u001b[49m\n\u001b[1;32m      5\u001b[0m \u001b[43m        \u001b[49m\u001b[43mposterior2\u001b[49m\u001b[38;5;241;43m=\u001b[39;49m\u001b[43minput_arguments\u001b[49m\u001b[43m[\u001b[49m\u001b[38;5;241;43m0\u001b[39;49m\u001b[43m]\u001b[49m\u001b[43m[\u001b[49m\u001b[38;5;241;43m3\u001b[39;49m\u001b[43m]\u001b[49m\u001b[43m,\u001b[49m\n\u001b[1;32m      6\u001b[0m \u001b[43m        \u001b[49m\u001b[38;5;66;43;03m# create_new=True,\u001b[39;49;00m\n\u001b[1;32m      7\u001b[0m \u001b[43m        \u001b[49m\u001b[43mkde_model_type\u001b[49m\u001b[38;5;241;43m=\u001b[39;49m\u001b[43mkde_model_type\u001b[49m\u001b[43m,\u001b[49m\n\u001b[1;32m      8\u001b[0m \u001b[43m        \u001b[49m\u001b[43mspin_zero\u001b[49m\u001b[38;5;241;43m=\u001b[39;49m\u001b[38;5;28;43;01mTrue\u001b[39;49;00m\u001b[43m,\u001b[49m\n\u001b[1;32m      9\u001b[0m \u001b[43m        \u001b[49m\u001b[43mnpool\u001b[49m\u001b[38;5;241;43m=\u001b[39;49m\u001b[38;5;241;43m1\u001b[39;49m\u001b[43m,\u001b[49m\n\u001b[1;32m     10\u001b[0m \u001b[43m    \u001b[49m\u001b[43m)\u001b[49m\n",
      "File \u001b[0;32m~/pobs/pobs/pobs.py:74\u001b[0m, in \u001b[0;36mPOBS.__init__\u001b[0;34m(self, posterior1, posterior2, npool, kde_model_type, astro_lensed, astro_unlensed, pe_prior, path_dict_all, pobs_directory, create_new, spin_zero, **kwargs)\u001b[0m\n\u001b[1;32m     72\u001b[0m \u001b[38;5;28mself\u001b[39m\u001b[38;5;241m.\u001b[39mcheck_astro_unlensed_model(data_dict\u001b[38;5;241m=\u001b[39mastro_unlensed)\n\u001b[1;32m     73\u001b[0m \u001b[38;5;28mself\u001b[39m\u001b[38;5;241m.\u001b[39mcheck_pe_prior_model(data_dict\u001b[38;5;241m=\u001b[39mpe_prior)\n\u001b[0;32m---> 74\u001b[0m \u001b[38;5;28;43mself\u001b[39;49m\u001b[38;5;241;43m.\u001b[39;49m\u001b[43mcheck_posterior_model\u001b[49m\u001b[43m(\u001b[49m\u001b[43mposterior1\u001b[49m\u001b[38;5;241;43m=\u001b[39;49m\u001b[43mposterior1\u001b[49m\u001b[43m,\u001b[49m\u001b[43m \u001b[49m\u001b[43mposterior2\u001b[49m\u001b[38;5;241;43m=\u001b[39;49m\u001b[43mposterior2\u001b[49m\u001b[43m)\u001b[49m\n",
      "File \u001b[0;32m~/pobs/pobs/pobs.py:154\u001b[0m, in \u001b[0;36mPOBS.check_posterior_model\u001b[0;34m(self, posterior1, posterior2)\u001b[0m\n\u001b[1;32m    151\u001b[0m     \u001b[38;5;28mprint\u001b[39m(\u001b[38;5;124m\"\u001b[39m\u001b[38;5;124mgetting default posterior2 data_dict from pobs module\u001b[39m\u001b[38;5;124m\"\u001b[39m)\n\u001b[1;32m    152\u001b[0m     data_dict2 \u001b[38;5;241m=\u001b[39m load_data_from_module(\u001b[38;5;124m'\u001b[39m\u001b[38;5;124mpobs\u001b[39m\u001b[38;5;124m'\u001b[39m, \u001b[38;5;124m'\u001b[39m\u001b[38;5;124mdata\u001b[39m\u001b[38;5;124m'\u001b[39m, \u001b[38;5;124m'\u001b[39m\u001b[38;5;124mimage2.hdf5\u001b[39m\u001b[38;5;124m'\u001b[39m)\n\u001b[0;32m--> 154\u001b[0m data_dict1, data_dict2, data_combine, \u001b[38;5;28mself\u001b[39m\u001b[38;5;241m.\u001b[39mlog_dt_12_days \u001b[38;5;241m=\u001b[39m \u001b[43mdata_check_posterior\u001b[49m\u001b[43m(\u001b[49m\u001b[43mdata_dict1\u001b[49m\u001b[43m,\u001b[49m\u001b[43m \u001b[49m\u001b[43mdata_dict2\u001b[49m\u001b[43m)\u001b[49m\n\u001b[1;32m    155\u001b[0m \u001b[38;5;66;03m# check if spin_zero is True, if True delete chi_eff from data_dict\u001b[39;00m\n\u001b[1;32m    156\u001b[0m \u001b[38;5;28;01mif\u001b[39;00m \u001b[38;5;28mself\u001b[39m\u001b[38;5;241m.\u001b[39mspin_zero:\n",
      "File \u001b[0;32m~/pobs/pobs/utils.py:379\u001b[0m, in \u001b[0;36mdata_check_posterior\u001b[0;34m(posterior1, posterior2)\u001b[0m\n\u001b[1;32m    377\u001b[0m         \u001b[38;5;28;01mexcept\u001b[39;00m:\n\u001b[1;32m    378\u001b[0m             \u001b[38;5;28mprint\u001b[39m(\u001b[38;5;124mf\u001b[39m\u001b[38;5;124m\"\u001b[39m\u001b[38;5;124mposterior2 should have the following keys: \u001b[39m\u001b[38;5;132;01m{\u001b[39;00mparam_list\u001b[38;5;132;01m}\u001b[39;00m\u001b[38;5;124m\"\u001b[39m)\n\u001b[0;32m--> 379\u001b[0m         \u001b[38;5;28;01mraise\u001b[39;00m \u001b[38;5;167;01mValueError\u001b[39;00m(\u001b[38;5;124mf\u001b[39m\u001b[38;5;124m\"\u001b[39m\u001b[38;5;132;01m{\u001b[39;00mkey\u001b[38;5;132;01m}\u001b[39;00m\u001b[38;5;124m is not present in the posterior2\u001b[39m\u001b[38;5;124m\"\u001b[39m)\n\u001b[1;32m    382\u001b[0m \u001b[38;5;66;03m# log10 for (time/86400) and luminosity distance\u001b[39;00m\n\u001b[1;32m    383\u001b[0m data_dict1 \u001b[38;5;241m=\u001b[39m \u001b[38;5;28mdict\u001b[39m(\n\u001b[1;32m    384\u001b[0m     mass_1 \u001b[38;5;241m=\u001b[39m param_1[\u001b[38;5;124m'\u001b[39m\u001b[38;5;124mmass_1\u001b[39m\u001b[38;5;124m'\u001b[39m],\n\u001b[1;32m    385\u001b[0m     mass_2 \u001b[38;5;241m=\u001b[39m param_1[\u001b[38;5;124m'\u001b[39m\u001b[38;5;124mmass_2\u001b[39m\u001b[38;5;124m'\u001b[39m],\n\u001b[0;32m   (...)\u001b[0m\n\u001b[1;32m    390\u001b[0m     log10_dl \u001b[38;5;241m=\u001b[39m np\u001b[38;5;241m.\u001b[39mlog10(param_1[\u001b[38;5;124m'\u001b[39m\u001b[38;5;124mluminosity_distance\u001b[39m\u001b[38;5;124m'\u001b[39m]),\n\u001b[1;32m    391\u001b[0m )\n",
      "\u001b[0;31mValueError\u001b[0m: mass_1 is not present in the posterior2"
     ]
    }
   ],
   "source": [
    "import pobs\n",
    "\n",
    "test = pobs.POBS(\n",
    "        posterior1=input_arguments[0][2],\n",
    "        posterior2=input_arguments[0][3],\n",
    "        # create_new=True,\n",
    "        kde_model_type=kde_model_type,\n",
    "        spin_zero=True,\n",
    "        npool=1,\n",
    "    )"
   ]
  },
  {
   "cell_type": "code",
   "execution_count": null,
   "metadata": {},
   "outputs": [],
   "source": []
  }
 ],
 "metadata": {
  "kernelspec": {
   "display_name": "ler",
   "language": "python",
   "name": "ler"
  },
  "language_info": {
   "codemirror_mode": {
    "name": "ipython",
    "version": 3
   },
   "file_extension": ".py",
   "mimetype": "text/x-python",
   "name": "python",
   "nbconvert_exporter": "python",
   "pygments_lexer": "ipython3",
   "version": "3.10.14"
  }
 },
 "nbformat": 4,
 "nbformat_minor": 2
}
