{
 "cells": [
  {
   "cell_type": "code",
   "execution_count": 18,
   "metadata": {},
   "outputs": [],
   "source": [
    "import os\n",
    "import shutil\n",
    "import numpy as np\n",
    "from pobs.utils import get_param_from_json, save_json, load_json, load_pickle, load_hdf5, save_hdf5, append_json, get_dict_or_file\n",
    "import matplotlib.pyplot as plt"
   ]
  },
  {
   "cell_type": "code",
   "execution_count": 25,
   "metadata": {},
   "outputs": [],
   "source": [
    "def save_hdf5_to_dir(\n",
    "    original_file_path,\n",
    "    #destination_dir = '/Users/phurailatpamhemantakumar/phd/mypackages/pobs/processed_data/pe_results/lensed/image2',\n",
    "    destination_dir = '/Users/phurailatpamhemantakumar/phd/mypackages/pobs/processed_data/pe_results/unlensed',\n",
    "    ):\n",
    "    \n",
    "    posterior = get_dict_or_file(original_file_path)\n",
    "    param_ = {}\n",
    "    param_list = ['mass_1','mass_2', 'geocent_time']\n",
    "    for key in param_list:\n",
    "        param_[key] = np.array(posterior['posterior'][key])\n",
    "\n",
    "    # name should include Mc, q and geocent-time\n",
    "    Mc = (param_['mass_1']*param_['mass_2'])**(3/5)/(param_['mass_1']+param_['mass_2'])**(1/5)\n",
    "    Mc = np.median(Mc)\n",
    "    Mc = f'Mc_{Mc:.2f}'\n",
    "    q = param_['mass_2']/param_['mass_1']\n",
    "    q = np.median(q)\n",
    "    q = f'q_{q:.2f}'\n",
    "    geocent_time = np.median(param_['geocent_time'])\n",
    "    geocent_time = f't_{geocent_time:.2f}'\n",
    "    name = f'{destination_dir}/{Mc}_{q}_{geocent_time}.hdf5'\n",
    "    # use shutil to copy original_file_path to name\n",
    "    shutil.copyfile(original_file_path, name)\n",
    "    print(f'copied {original_file_path} to {name}')\n",
    "    "
   ]
  },
  {
   "cell_type": "code",
   "execution_count": null,
   "metadata": {},
   "outputs": [
    {
     "name": "stdout",
     "output_type": "stream",
     "text": [
      "hdf5 file found in  /Volumes/Extreme SSD/ini_automation_lensed_image2/outdir_10_mc_29_q_0p9_time_1265398320/result/label_index_10_mc_29_q_0p9_time_1265398320_data0_1265398320-8426585_analysis_H1L1V1_result.hdf5\n",
      "copied /Volumes/Extreme SSD/ini_automation_lensed_image2/outdir_10_mc_29_q_0p9_time_1265398320/result/label_index_10_mc_29_q_0p9_time_1265398320_data0_1265398320-8426585_analysis_H1L1V1_result.hdf5 to /Users/phurailatpamhemantakumar/phd/mypackages/pobs/processed_data/pe_results/lensed/image2/Mc_29.39_q_0.90_t_1265398320.84.hdf5\n",
      "hdf5 file found in  /Volumes/Extreme SSD/ini_automation_lensed_image2/outdir_1_mc_56_q_0p8_time_1249943422/result/label_index_1_mc_56_q_0p8_time_1249943422_data0_1249943422-6239023_analysis_H1L1V1_result.hdf5\n",
      "copied /Volumes/Extreme SSD/ini_automation_lensed_image2/outdir_1_mc_56_q_0p8_time_1249943422/result/label_index_1_mc_56_q_0p8_time_1249943422_data0_1249943422-6239023_analysis_H1L1V1_result.hdf5 to /Users/phurailatpamhemantakumar/phd/mypackages/pobs/processed_data/pe_results/lensed/image2/Mc_58.59_q_0.81_t_1249943422.62.hdf5\n",
      "hdf5 file found in  /Volumes/Extreme SSD/ini_automation_lensed_image2/outdir_2_mc_68_q_0p9_time_1250027046/result/label_index_2_mc_68_q_0p9_time_1250027046_data0_1250027046-1990871_analysis_H1L1V1_result.hdf5\n",
      "copied /Volumes/Extreme SSD/ini_automation_lensed_image2/outdir_2_mc_68_q_0p9_time_1250027046/result/label_index_2_mc_68_q_0p9_time_1250027046_data0_1250027046-1990871_analysis_H1L1V1_result.hdf5 to /Users/phurailatpamhemantakumar/phd/mypackages/pobs/processed_data/pe_results/lensed/image2/Mc_69.84_q_0.73_t_1250027046.20.hdf5\n",
      "hdf5 file found in  /Volumes/Extreme SSD/ini_automation_lensed_image2/outdir_11_mc_64_q_0p7_time_1250334509/result/label_index_11_mc_64_q_0p7_time_1250334509_data0_1250334509-2540283_analysis_H1L1V1_result.hdf5\n",
      "copied /Volumes/Extreme SSD/ini_automation_lensed_image2/outdir_11_mc_64_q_0p7_time_1250334509/result/label_index_11_mc_64_q_0p7_time_1250334509_data0_1250334509-2540283_analysis_H1L1V1_result.hdf5 to /Users/phurailatpamhemantakumar/phd/mypackages/pobs/processed_data/pe_results/lensed/image2/Mc_70.15_q_0.87_t_1250334509.25.hdf5\n",
      "hdf5 file found in  /Volumes/Extreme SSD/ini_automation_lensed_image2/outdir_3_mc_35_q_0p8_time_1241792870/result/label_index_3_mc_35_q_0p8_time_1241792870_data0_1241792870-090823_analysis_H1L1V1_result.hdf5\n",
      "copied /Volumes/Extreme SSD/ini_automation_lensed_image2/outdir_3_mc_35_q_0p8_time_1241792870/result/label_index_3_mc_35_q_0p8_time_1241792870_data0_1241792870-090823_analysis_H1L1V1_result.hdf5 to /Users/phurailatpamhemantakumar/phd/mypackages/pobs/processed_data/pe_results/lensed/image2/Mc_39.85_q_0.80_t_1241792870.06.hdf5\n",
      "hdf5 file found in  /Volumes/Extreme SSD/ini_automation_lensed_image2/outdir_4_mc_32_q_0p9_time_1267244402/result/label_index_4_mc_32_q_0p9_time_1267244402_data0_1267244402-972761_analysis_H1L1V1_result.hdf5\n",
      "copied /Volumes/Extreme SSD/ini_automation_lensed_image2/outdir_4_mc_32_q_0p9_time_1267244402/result/label_index_4_mc_32_q_0p9_time_1267244402_data0_1267244402-972761_analysis_H1L1V1_result.hdf5 to /Users/phurailatpamhemantakumar/phd/mypackages/pobs/processed_data/pe_results/lensed/image2/Mc_34.11_q_0.67_t_1267244402.97.hdf5\n",
      "hdf5 file found in  /Volumes/Extreme SSD/ini_automation_lensed_image2/outdir_6_mc_20_q_0p8_time_1257771515/result/label_index_6_mc_20_q_0p8_time_1257771515_data0_1257771515-6968849_analysis_H1L1V1_result.hdf5\n",
      "copied /Volumes/Extreme SSD/ini_automation_lensed_image2/outdir_6_mc_20_q_0p8_time_1257771515/result/label_index_6_mc_20_q_0p8_time_1257771515_data0_1257771515-6968849_analysis_H1L1V1_result.hdf5 to /Users/phurailatpamhemantakumar/phd/mypackages/pobs/processed_data/pe_results/lensed/image2/Mc_19.71_q_0.81_t_1257771515.70.hdf5\n",
      "hdf5 file found in  /Volumes/Extreme SSD/ini_automation_lensed_image2/outdir_8_mc_74_q_0p5_time_1262369758/result/label_index_8_mc_74_q_0p5_time_1262369758_data0_1262369758-062003_analysis_H1L1V1_result.hdf5\n",
      "copied /Volumes/Extreme SSD/ini_automation_lensed_image2/outdir_8_mc_74_q_0p5_time_1262369758/result/label_index_8_mc_74_q_0p5_time_1262369758_data0_1262369758-062003_analysis_H1L1V1_result.hdf5 to /Users/phurailatpamhemantakumar/phd/mypackages/pobs/processed_data/pe_results/lensed/image2/Mc_85.44_q_0.75_t_1262369758.06.hdf5\n",
      "hdf5 file found in  /Volumes/Extreme SSD/ini_automation_lensed_image2/outdir_9_mc_20_q_0p9_time_1268723131/result/label_index_9_mc_20_q_0p9_time_1268723131_data0_1268723131-244793_analysis_H1L1V1_result.hdf5\n",
      "copied /Volumes/Extreme SSD/ini_automation_lensed_image2/outdir_9_mc_20_q_0p9_time_1268723131/result/label_index_9_mc_20_q_0p9_time_1268723131_data0_1268723131-244793_analysis_H1L1V1_result.hdf5 to /Users/phurailatpamhemantakumar/phd/mypackages/pobs/processed_data/pe_results/lensed/image2/Mc_20.01_q_0.67_t_1268723131.24.hdf5\n",
      "hdf5 file found in  /Volumes/Extreme SSD/ini_automation_lensed_image2/outdir_7_mc_25_q_0p9_time_1251637600/result/label_index_7_mc_25_q_0p9_time_1251637600_data0_1251637600-280911_analysis_H1L1V1_result.hdf5\n",
      "copied /Volumes/Extreme SSD/ini_automation_lensed_image2/outdir_7_mc_25_q_0p9_time_1251637600/result/label_index_7_mc_25_q_0p9_time_1251637600_data0_1251637600-280911_analysis_H1L1V1_result.hdf5 to /Users/phurailatpamhemantakumar/phd/mypackages/pobs/processed_data/pe_results/lensed/image2/Mc_26.53_q_0.79_t_1251637600.28.hdf5\n",
      "hdf5 file found in  /Volumes/Extreme SSD/ini_automation_lensed_image2/outdir_13_mc_31_q_0p8_time_1241937190/result/label_index_13_mc_31_q_0p8_time_1241937190_data0_1241937190-7376392_analysis_H1L1V1_result.hdf5\n",
      "copied /Volumes/Extreme SSD/ini_automation_lensed_image2/outdir_13_mc_31_q_0p8_time_1241937190/result/label_index_13_mc_31_q_0p8_time_1241937190_data0_1241937190-7376392_analysis_H1L1V1_result.hdf5 to /Users/phurailatpamhemantakumar/phd/mypackages/pobs/processed_data/pe_results/lensed/image2/Mc_30.39_q_0.84_t_1241937190.74.hdf5\n",
      "hdf5 file found in  /Volumes/Extreme SSD/ini_automation_lensed_image2/outdir_12_mc_51_q_0p5_time_1242588572/result/label_index_12_mc_51_q_0p5_time_1242588572_data0_1242588572-0257328_analysis_H1L1V1_result.hdf5\n",
      "copied /Volumes/Extreme SSD/ini_automation_lensed_image2/outdir_12_mc_51_q_0p5_time_1242588572/result/label_index_12_mc_51_q_0p5_time_1242588572_data0_1242588572-0257328_analysis_H1L1V1_result.hdf5 to /Users/phurailatpamhemantakumar/phd/mypackages/pobs/processed_data/pe_results/lensed/image2/Mc_50.82_q_0.67_t_1242588572.03.hdf5\n",
      "hdf5 file found in  /Volumes/Extreme SSD/ini_automation_lensed_image2/outdir_30_mc_44_q_0p9_time_1244688288/result/label_index_30_mc_44_q_0p9_time_1244688288_data0_1244688288-0789785_analysis_H1L1V1_result.hdf5\n",
      "copied /Volumes/Extreme SSD/ini_automation_lensed_image2/outdir_30_mc_44_q_0p9_time_1244688288/result/label_index_30_mc_44_q_0p9_time_1244688288_data0_1244688288-0789785_analysis_H1L1V1_result.hdf5 to /Users/phurailatpamhemantakumar/phd/mypackages/pobs/processed_data/pe_results/lensed/image2/Mc_46.95_q_0.84_t_1244688288.08.hdf5\n",
      "hdf5 file found in  /Volumes/Extreme SSD/ini_automation_lensed_image2/outdir_29_mc_26_q_0p9_time_1257480493/result/label_index_29_mc_26_q_0p9_time_1257480493_data0_1257480493-041928_analysis_H1L1V1_result.hdf5\n",
      "copied /Volumes/Extreme SSD/ini_automation_lensed_image2/outdir_29_mc_26_q_0p9_time_1257480493/result/label_index_29_mc_26_q_0p9_time_1257480493_data0_1257480493-041928_analysis_H1L1V1_result.hdf5 to /Users/phurailatpamhemantakumar/phd/mypackages/pobs/processed_data/pe_results/lensed/image2/Mc_26.18_q_0.80_t_1257480493.04.hdf5\n",
      "hdf5 file found in  /Volumes/Extreme SSD/ini_automation_lensed_image2/outdir_28_mc_25_q_0p9_time_1265874589/result/label_index_28_mc_25_q_0p9_time_1265874589_data0_1265874589-108142_analysis_H1L1V1_result.hdf5\n",
      "copied /Volumes/Extreme SSD/ini_automation_lensed_image2/outdir_28_mc_25_q_0p9_time_1265874589/result/label_index_28_mc_25_q_0p9_time_1265874589_data0_1265874589-108142_analysis_H1L1V1_result.hdf5 to /Users/phurailatpamhemantakumar/phd/mypackages/pobs/processed_data/pe_results/lensed/image2/Mc_24.00_q_0.83_t_1265874589.11.hdf5\n",
      "hdf5 file found in  /Volumes/Extreme SSD/ini_automation_lensed_image2/outdir_27_mc_20_q_0p9_time_1241384223/result/label_index_27_mc_20_q_0p9_time_1241384223_data0_1241384223-2404242_analysis_H1L1V1_result.hdf5\n",
      "copied /Volumes/Extreme SSD/ini_automation_lensed_image2/outdir_27_mc_20_q_0p9_time_1241384223/result/label_index_27_mc_20_q_0p9_time_1241384223_data0_1241384223-2404242_analysis_H1L1V1_result.hdf5 to /Users/phurailatpamhemantakumar/phd/mypackages/pobs/processed_data/pe_results/lensed/image2/Mc_20.34_q_0.76_t_1241384223.24.hdf5\n",
      "hdf5 file found in  /Volumes/Extreme SSD/ini_automation_lensed_image2/outdir_26_mc_26_q_0p9_time_1264620414/result/label_index_26_mc_26_q_0p9_time_1264620414_data0_1264620414-4604652_analysis_H1L1V1_result.hdf5\n",
      "copied /Volumes/Extreme SSD/ini_automation_lensed_image2/outdir_26_mc_26_q_0p9_time_1264620414/result/label_index_26_mc_26_q_0p9_time_1264620414_data0_1264620414-4604652_analysis_H1L1V1_result.hdf5 to /Users/phurailatpamhemantakumar/phd/mypackages/pobs/processed_data/pe_results/lensed/image2/Mc_26.55_q_0.75_t_1264620414.46.hdf5\n",
      "hdf5 file found in  /Volumes/Extreme SSD/ini_automation_lensed_image2/outdir_25_mc_23_q_0p7_time_1242098930/result/label_index_25_mc_23_q_0p7_time_1242098930_data0_1242098930-3549001_analysis_H1L1V1_result.hdf5\n",
      "copied /Volumes/Extreme SSD/ini_automation_lensed_image2/outdir_25_mc_23_q_0p7_time_1242098930/result/label_index_25_mc_23_q_0p7_time_1242098930_data0_1242098930-3549001_analysis_H1L1V1_result.hdf5 to /Users/phurailatpamhemantakumar/phd/mypackages/pobs/processed_data/pe_results/lensed/image2/Mc_23.84_q_0.63_t_1242098930.35.hdf5\n",
      "hdf5 file found in  /Volumes/Extreme SSD/ini_automation_lensed_image2/outdir_23_mc_20_q_0p7_time_1262653447/result/label_index_23_mc_20_q_0p7_time_1262653447_data0_1262653447-6680188_analysis_H1L1V1_result.hdf5\n",
      "copied /Volumes/Extreme SSD/ini_automation_lensed_image2/outdir_23_mc_20_q_0p7_time_1262653447/result/label_index_23_mc_20_q_0p7_time_1262653447_data0_1262653447-6680188_analysis_H1L1V1_result.hdf5 to /Users/phurailatpamhemantakumar/phd/mypackages/pobs/processed_data/pe_results/lensed/image2/Mc_20.11_q_0.69_t_1262653447.67.hdf5\n",
      "hdf5 file found in  /Volumes/Extreme SSD/ini_automation_lensed_image2/outdir_22_mc_35_q_0p7_time_1252878232/result/label_index_22_mc_35_q_0p7_time_1252878232_data0_1252878232-6230006_analysis_H1L1V1_result.hdf5\n",
      "copied /Volumes/Extreme SSD/ini_automation_lensed_image2/outdir_22_mc_35_q_0p7_time_1252878232/result/label_index_22_mc_35_q_0p7_time_1252878232_data0_1252878232-6230006_analysis_H1L1V1_result.hdf5 to /Users/phurailatpamhemantakumar/phd/mypackages/pobs/processed_data/pe_results/lensed/image2/Mc_34.93_q_0.81_t_1252878232.62.hdf5\n",
      "hdf5 file found in  /Volumes/Extreme SSD/ini_automation_lensed_image2/outdir_20_mc_20_q_0p8_time_1265605211/result/label_index_20_mc_20_q_0p8_time_1265605211_data0_1265605211-3006084_analysis_H1L1V1_result.hdf5\n",
      "copied /Volumes/Extreme SSD/ini_automation_lensed_image2/outdir_20_mc_20_q_0p8_time_1265605211/result/label_index_20_mc_20_q_0p8_time_1265605211_data0_1265605211-3006084_analysis_H1L1V1_result.hdf5 to /Users/phurailatpamhemantakumar/phd/mypackages/pobs/processed_data/pe_results/lensed/image2/Mc_22.48_q_0.85_t_1265605211.30.hdf5\n",
      "hdf5 file found in  /Volumes/Extreme SSD/ini_automation_lensed_image2/outdir_19_mc_21_q_0p8_time_1240716765/result/label_index_19_mc_21_q_0p8_time_1240716765_data0_1240716765-9850466_analysis_H1L1V1_result.hdf5\n",
      "copied /Volumes/Extreme SSD/ini_automation_lensed_image2/outdir_19_mc_21_q_0p8_time_1240716765/result/label_index_19_mc_21_q_0p8_time_1240716765_data0_1240716765-9850466_analysis_H1L1V1_result.hdf5 to /Users/phurailatpamhemantakumar/phd/mypackages/pobs/processed_data/pe_results/lensed/image2/Mc_21.18_q_0.66_t_1240716765.99.hdf5\n",
      "hdf5 file found in  /Volumes/Extreme SSD/ini_automation_lensed_image2/outdir_18_mc_37_q_0p8_time_1250510464/result/label_index_18_mc_37_q_0p8_time_1250510464_data0_1250510464-3680193_analysis_H1L1V1_result.hdf5\n",
      "copied /Volumes/Extreme SSD/ini_automation_lensed_image2/outdir_18_mc_37_q_0p8_time_1250510464/result/label_index_18_mc_37_q_0p8_time_1250510464_data0_1250510464-3680193_analysis_H1L1V1_result.hdf5 to /Users/phurailatpamhemantakumar/phd/mypackages/pobs/processed_data/pe_results/lensed/image2/Mc_32.29_q_0.43_t_1250510464.35.hdf5\n",
      "hdf5 file found in  /Volumes/Extreme SSD/ini_automation_lensed_image2/outdir_17_mc_65_q_0p6_time_1269213830/result/label_index_17_mc_65_q_0p6_time_1269213830_data0_1269213830-9010782_analysis_H1L1V1_result.hdf5\n",
      "copied /Volumes/Extreme SSD/ini_automation_lensed_image2/outdir_17_mc_65_q_0p6_time_1269213830/result/label_index_17_mc_65_q_0p6_time_1269213830_data0_1269213830-9010782_analysis_H1L1V1_result.hdf5 to /Users/phurailatpamhemantakumar/phd/mypackages/pobs/processed_data/pe_results/lensed/image2/Mc_68.00_q_0.74_t_1269213830.90.hdf5\n",
      "hdf5 file found in  /Volumes/Extreme SSD/ini_automation_lensed_image2/outdir_16_mc_28_q_0p8_time_1270373418/result/label_index_16_mc_28_q_0p8_time_1270373418_data0_1270373418-2285721_analysis_H1L1V1_result.hdf5\n",
      "copied /Volumes/Extreme SSD/ini_automation_lensed_image2/outdir_16_mc_28_q_0p8_time_1270373418/result/label_index_16_mc_28_q_0p8_time_1270373418_data0_1270373418-2285721_analysis_H1L1V1_result.hdf5 to /Users/phurailatpamhemantakumar/phd/mypackages/pobs/processed_data/pe_results/lensed/image2/Mc_28.19_q_0.65_t_1270373418.26.hdf5\n",
      "hdf5 file found in  /Volumes/Extreme SSD/ini_automation_lensed_image2/outdir_15_mc_46_q_0p9_time_1261387900/result/label_index_15_mc_46_q_0p9_time_1261387900_data0_1261387900-3463676_analysis_H1L1V1_result.hdf5\n",
      "copied /Volumes/Extreme SSD/ini_automation_lensed_image2/outdir_15_mc_46_q_0p9_time_1261387900/result/label_index_15_mc_46_q_0p9_time_1261387900_data0_1261387900-3463676_analysis_H1L1V1_result.hdf5 to /Users/phurailatpamhemantakumar/phd/mypackages/pobs/processed_data/pe_results/lensed/image2/Mc_49.99_q_0.82_t_1261387900.34.hdf5\n",
      "hdf5 file found in  /Volumes/Extreme SSD/ini_automation_lensed_image2/outdir_14_mc_20_q_0p9_time_1256367808/result/label_index_14_mc_20_q_0p9_time_1256367808_data0_1256367808-5658183_analysis_H1L1V1_result.hdf5\n",
      "copied /Volumes/Extreme SSD/ini_automation_lensed_image2/outdir_14_mc_20_q_0p9_time_1256367808/result/label_index_14_mc_20_q_0p9_time_1256367808_data0_1256367808-5658183_analysis_H1L1V1_result.hdf5 to /Users/phurailatpamhemantakumar/phd/mypackages/pobs/processed_data/pe_results/lensed/image2/Mc_20.15_q_0.81_t_1256367808.56.hdf5\n",
      "hdf5 file found in  /Volumes/Extreme SSD/ini_automation_lensed_image2/outdir_31_mc_42_q_0p9_time_1268808177/result/label_index_31_mc_42_q_0p9_time_1268808177_data0_1268808177-421874_analysis_H1L1V1_result.hdf5\n",
      "copied /Volumes/Extreme SSD/ini_automation_lensed_image2/outdir_31_mc_42_q_0p9_time_1268808177/result/label_index_31_mc_42_q_0p9_time_1268808177_data0_1268808177-421874_analysis_H1L1V1_result.hdf5 to /Users/phurailatpamhemantakumar/phd/mypackages/pobs/processed_data/pe_results/lensed/image2/Mc_43.48_q_0.87_t_1268808177.42.hdf5\n",
      "hdf5 file found in  /Volumes/Extreme SSD/ini_automation_lensed_image2/outdir_46_mc_69_q_0p8_time_1259887306/result/label_index_46_mc_69_q_0p8_time_1259887306_data0_1259887306-852963_analysis_H1L1V1_result.hdf5\n",
      "copied /Volumes/Extreme SSD/ini_automation_lensed_image2/outdir_46_mc_69_q_0p8_time_1259887306/result/label_index_46_mc_69_q_0p8_time_1259887306_data0_1259887306-852963_analysis_H1L1V1_result.hdf5 to /Users/phurailatpamhemantakumar/phd/mypackages/pobs/processed_data/pe_results/lensed/image2/Mc_70.35_q_0.82_t_1259887306.86.hdf5\n",
      "hdf5 file found in  /Volumes/Extreme SSD/ini_automation_lensed_image2/outdir_45_mc_20_q_0p8_time_1249923884/result/label_index_45_mc_20_q_0p8_time_1249923884_data0_1249923884-9189208_analysis_H1L1V1_result.hdf5\n",
      "copied /Volumes/Extreme SSD/ini_automation_lensed_image2/outdir_45_mc_20_q_0p8_time_1249923884/result/label_index_45_mc_20_q_0p8_time_1249923884_data0_1249923884-9189208_analysis_H1L1V1_result.hdf5 to /Users/phurailatpamhemantakumar/phd/mypackages/pobs/processed_data/pe_results/lensed/image2/Mc_20.08_q_0.83_t_1249923884.92.hdf5\n",
      "hdf5 file found in  /Volumes/Extreme SSD/ini_automation_lensed_image2/outdir_44_mc_32_q_0p9_time_1253742250/result/label_index_44_mc_32_q_0p9_time_1253742250_data0_1253742250-7683005_analysis_H1L1V1_result.hdf5\n",
      "copied /Volumes/Extreme SSD/ini_automation_lensed_image2/outdir_44_mc_32_q_0p9_time_1253742250/result/label_index_44_mc_32_q_0p9_time_1253742250_data0_1253742250-7683005_analysis_H1L1V1_result.hdf5 to /Users/phurailatpamhemantakumar/phd/mypackages/pobs/processed_data/pe_results/lensed/image2/Mc_33.11_q_0.89_t_1253742250.77.hdf5\n",
      "hdf5 file found in  /Volumes/Extreme SSD/ini_automation_lensed_image2/outdir_42_mc_66_q_0p8_time_1247927755/result/label_index_42_mc_66_q_0p8_time_1247927755_data0_1247927755-968369_analysis_H1L1V1_result.hdf5\n",
      "copied /Volumes/Extreme SSD/ini_automation_lensed_image2/outdir_42_mc_66_q_0p8_time_1247927755/result/label_index_42_mc_66_q_0p8_time_1247927755_data0_1247927755-968369_analysis_H1L1V1_result.hdf5 to /Users/phurailatpamhemantakumar/phd/mypackages/pobs/processed_data/pe_results/lensed/image2/Mc_71.21_q_0.67_t_1247927755.96.hdf5\n",
      "hdf5 file found in  /Volumes/Extreme SSD/ini_automation_lensed_image2/outdir_41_mc_38_q_0p9_time_1259600223/result/label_index_41_mc_38_q_0p9_time_1259600223_data0_1259600223-9332883_analysis_H1L1V1_result.hdf5\n",
      "copied /Volumes/Extreme SSD/ini_automation_lensed_image2/outdir_41_mc_38_q_0p9_time_1259600223/result/label_index_41_mc_38_q_0p9_time_1259600223_data0_1259600223-9332883_analysis_H1L1V1_result.hdf5 to /Users/phurailatpamhemantakumar/phd/mypackages/pobs/processed_data/pe_results/lensed/image2/Mc_38.95_q_0.77_t_1259600223.93.hdf5\n",
      "hdf5 file found in  /Volumes/Extreme SSD/ini_automation_lensed_image2/outdir_39_mc_55_q_0p8_time_1248851785/result/label_index_39_mc_55_q_0p8_time_1248851785_data0_1248851785-7583492_analysis_H1L1V1_result.hdf5\n",
      "copied /Volumes/Extreme SSD/ini_automation_lensed_image2/outdir_39_mc_55_q_0p8_time_1248851785/result/label_index_39_mc_55_q_0p8_time_1248851785_data0_1248851785-7583492_analysis_H1L1V1_result.hdf5 to /Users/phurailatpamhemantakumar/phd/mypackages/pobs/processed_data/pe_results/lensed/image2/Mc_45.12_q_0.71_t_1248851785.76.hdf5\n",
      "hdf5 file found in  /Volumes/Extreme SSD/ini_automation_lensed_image2/outdir_38_mc_70_q_0p9_time_1250515769/result/label_index_38_mc_70_q_0p9_time_1250515769_data0_1250515769-3921745_analysis_H1L1V1_result.hdf5\n",
      "copied /Volumes/Extreme SSD/ini_automation_lensed_image2/outdir_38_mc_70_q_0p9_time_1250515769/result/label_index_38_mc_70_q_0p9_time_1250515769_data0_1250515769-3921745_analysis_H1L1V1_result.hdf5 to /Users/phurailatpamhemantakumar/phd/mypackages/pobs/processed_data/pe_results/lensed/image2/Mc_63.07_q_0.81_t_1250515769.40.hdf5\n",
      "hdf5 file found in  /Volumes/Extreme SSD/ini_automation_lensed_image2/outdir_35_mc_71_q_0p6_time_1259000772/result/label_index_35_mc_71_q_0p6_time_1259000772_data0_1259000772-576727_analysis_H1L1V1_result.hdf5\n",
      "copied /Volumes/Extreme SSD/ini_automation_lensed_image2/outdir_35_mc_71_q_0p6_time_1259000772/result/label_index_35_mc_71_q_0p6_time_1259000772_data0_1259000772-576727_analysis_H1L1V1_result.hdf5 to /Users/phurailatpamhemantakumar/phd/mypackages/pobs/processed_data/pe_results/lensed/image2/Mc_76.51_q_0.80_t_1259000772.58.hdf5\n",
      "hdf5 file found in  /Volumes/Extreme SSD/ini_automation_lensed_image2/outdir_34_mc_27_q_0p9_time_1243366440/result/label_index_34_mc_27_q_0p9_time_1243366440_data0_1243366440-4298556_analysis_H1L1V1_result.hdf5\n",
      "copied /Volumes/Extreme SSD/ini_automation_lensed_image2/outdir_34_mc_27_q_0p9_time_1243366440/result/label_index_34_mc_27_q_0p9_time_1243366440_data0_1243366440-4298556_analysis_H1L1V1_result.hdf5 to /Users/phurailatpamhemantakumar/phd/mypackages/pobs/processed_data/pe_results/lensed/image2/Mc_26.27_q_0.83_t_1243366440.43.hdf5\n",
      "hdf5 file found in  /Volumes/Extreme SSD/ini_automation_lensed_image2/outdir_33_mc_67_q_0p9_time_1252785091/result/label_index_33_mc_67_q_0p9_time_1252785091_data0_1252785091-8268101_analysis_H1L1V1_result.hdf5\n",
      "copied /Volumes/Extreme SSD/ini_automation_lensed_image2/outdir_33_mc_67_q_0p9_time_1252785091/result/label_index_33_mc_67_q_0p9_time_1252785091_data0_1252785091-8268101_analysis_H1L1V1_result.hdf5 to /Users/phurailatpamhemantakumar/phd/mypackages/pobs/processed_data/pe_results/lensed/image2/Mc_62.32_q_0.64_t_1252785091.83.hdf5\n",
      "hdf5 file found in  /Volumes/Extreme SSD/ini_automation_lensed_image2/outdir_68_mc_32_q_0p7_time_1244758364/result/label_index_68_mc_32_q_0p7_time_1244758364_data0_1244758364-3985336_analysis_H1L1V1_result.hdf5\n",
      "copied /Volumes/Extreme SSD/ini_automation_lensed_image2/outdir_68_mc_32_q_0p7_time_1244758364/result/label_index_68_mc_32_q_0p7_time_1244758364_data0_1244758364-3985336_analysis_H1L1V1_result.hdf5 to /Users/phurailatpamhemantakumar/phd/mypackages/pobs/processed_data/pe_results/lensed/image2/Mc_34.41_q_0.79_t_1244758364.40.hdf5\n",
      "hdf5 file found in  /Volumes/Extreme SSD/ini_automation_lensed_image2/outdir_51_mc_19_q_0p6_time_1262549583/result/label_index_51_mc_19_q_0p6_time_1262549583_data0_1262549583-0731192_analysis_H1L1V1_result.hdf5\n",
      "copied /Volumes/Extreme SSD/ini_automation_lensed_image2/outdir_51_mc_19_q_0p6_time_1262549583/result/label_index_51_mc_19_q_0p6_time_1262549583_data0_1262549583-0731192_analysis_H1L1V1_result.hdf5 to /Users/phurailatpamhemantakumar/phd/mypackages/pobs/processed_data/pe_results/lensed/image2/Mc_19.12_q_0.67_t_1262549583.08.hdf5\n",
      "hdf5 file found in  /Volumes/Extreme SSD/ini_automation_lensed_image2/outdir_0_mc_15_q_0p8_time_1264819713/result/label_index_0_mc_15_q_0p8_time_1264819713_data0_1264819713-6412127_analysis_H1L1V1_result.hdf5\n",
      "copied /Volumes/Extreme SSD/ini_automation_lensed_image2/outdir_0_mc_15_q_0p8_time_1264819713/result/label_index_0_mc_15_q_0p8_time_1264819713_data0_1264819713-6412127_analysis_H1L1V1_result.hdf5 to /Users/phurailatpamhemantakumar/phd/mypackages/pobs/processed_data/pe_results/lensed/image2/Mc_16.00_q_0.60_t_1264819713.61.hdf5\n",
      "hdf5 file found in  /Volumes/Extreme SSD/ini_automation_lensed_image2/outdir_5_mc_10_q_0p9_time_1254055142/result/label_index_5_mc_10_q_0p9_time_1254055142_data0_1254055142-227538_analysis_H1L1V1_result.hdf5\n",
      "copied /Volumes/Extreme SSD/ini_automation_lensed_image2/outdir_5_mc_10_q_0p9_time_1254055142/result/label_index_5_mc_10_q_0p9_time_1254055142_data0_1254055142-227538_analysis_H1L1V1_result.hdf5 to /Users/phurailatpamhemantakumar/phd/mypackages/pobs/processed_data/pe_results/lensed/image2/Mc_10.07_q_0.80_t_1254055142.23.hdf5\n",
      "hdf5 file found in  /Volumes/Extreme SSD/ini_automation_lensed_image2/outdir_21_mc_14_q_0p8_time_1241083539/result/label_index_21_mc_14_q_0p8_time_1241083539_data0_1241083539-4706442_analysis_H1L1V1_result.hdf5\n",
      "copied /Volumes/Extreme SSD/ini_automation_lensed_image2/outdir_21_mc_14_q_0p8_time_1241083539/result/label_index_21_mc_14_q_0p8_time_1241083539_data0_1241083539-4706442_analysis_H1L1V1_result.hdf5 to /Users/phurailatpamhemantakumar/phd/mypackages/pobs/processed_data/pe_results/lensed/image2/Mc_13.65_q_0.76_t_1241083539.47.hdf5\n",
      "hdf5 file found in  /Volumes/Extreme SSD/ini_automation_lensed_image2/outdir_24_mc_17_q_0p9_time_1241508473/result/label_index_24_mc_17_q_0p9_time_1241508473_data0_1241508473-2487166_analysis_H1L1V1_result.hdf5\n",
      "copied /Volumes/Extreme SSD/ini_automation_lensed_image2/outdir_24_mc_17_q_0p9_time_1241508473/result/label_index_24_mc_17_q_0p9_time_1241508473_data0_1241508473-2487166_analysis_H1L1V1_result.hdf5 to /Users/phurailatpamhemantakumar/phd/mypackages/pobs/processed_data/pe_results/lensed/image2/Mc_16.55_q_0.49_t_1241508473.25.hdf5\n",
      "hdf5 file found in  /Volumes/Extreme SSD/ini_automation_lensed_image2/outdir_32_mc_18_q_0p8_time_1241283994/result/label_index_32_mc_18_q_0p8_time_1241283994_data0_1241283994-73825_analysis_H1L1V1_result.hdf5\n",
      "copied /Volumes/Extreme SSD/ini_automation_lensed_image2/outdir_32_mc_18_q_0p8_time_1241283994/result/label_index_32_mc_18_q_0p8_time_1241283994_data0_1241283994-73825_analysis_H1L1V1_result.hdf5 to /Users/phurailatpamhemantakumar/phd/mypackages/pobs/processed_data/pe_results/lensed/image2/Mc_19.96_q_0.70_t_1241283994.74.hdf5\n",
      "hdf5 file found in  /Volumes/Extreme SSD/ini_automation_lensed_image2/outdir_36_mc_19_q_0p9_time_1265649704/result/label_index_36_mc_19_q_0p9_time_1265649704_data0_1265649704-978406_analysis_H1L1V1_result.hdf5\n",
      "copied /Volumes/Extreme SSD/ini_automation_lensed_image2/outdir_36_mc_19_q_0p9_time_1265649704/result/label_index_36_mc_19_q_0p9_time_1265649704_data0_1265649704-978406_analysis_H1L1V1_result.hdf5 to /Users/phurailatpamhemantakumar/phd/mypackages/pobs/processed_data/pe_results/lensed/image2/Mc_19.52_q_0.88_t_1265649704.98.hdf5\n",
      "hdf5 file found in  /Volumes/Extreme SSD/ini_automation_lensed_image2/outdir_37_mc_16_q_0p9_time_1245369899/result/label_index_37_mc_16_q_0p9_time_1245369899_data0_1245369899-7515488_analysis_H1L1V1_result.hdf5\n",
      "copied /Volumes/Extreme SSD/ini_automation_lensed_image2/outdir_37_mc_16_q_0p9_time_1245369899/result/label_index_37_mc_16_q_0p9_time_1245369899_data0_1245369899-7515488_analysis_H1L1V1_result.hdf5 to /Users/phurailatpamhemantakumar/phd/mypackages/pobs/processed_data/pe_results/lensed/image2/Mc_16.81_q_0.84_t_1245369899.75.hdf5\n",
      "hdf5 file found in  /Volumes/Extreme SSD/ini_automation_lensed_image2/outdir_40_mc_17_q_0p8_time_1241252521/result/label_index_40_mc_17_q_0p8_time_1241252521_data0_1241252521-5802488_analysis_H1L1V1_result.hdf5\n",
      "copied /Volumes/Extreme SSD/ini_automation_lensed_image2/outdir_40_mc_17_q_0p8_time_1241252521/result/label_index_40_mc_17_q_0p8_time_1241252521_data0_1241252521-5802488_analysis_H1L1V1_result.hdf5 to /Users/phurailatpamhemantakumar/phd/mypackages/pobs/processed_data/pe_results/lensed/image2/Mc_17.69_q_0.75_t_1241252521.58.hdf5\n",
      "hdf5 file found in  /Volumes/Extreme SSD/ini_automation_lensed_image2/outdir_43_mc_18_q_0p8_time_1257447426/result/label_index_43_mc_18_q_0p8_time_1257447426_data0_1257447426-8085415_analysis_H1L1V1_result.hdf5\n",
      "copied /Volumes/Extreme SSD/ini_automation_lensed_image2/outdir_43_mc_18_q_0p8_time_1257447426/result/label_index_43_mc_18_q_0p8_time_1257447426_data0_1257447426-8085415_analysis_H1L1V1_result.hdf5 to /Users/phurailatpamhemantakumar/phd/mypackages/pobs/processed_data/pe_results/lensed/image2/Mc_18.42_q_0.77_t_1257447426.81.hdf5\n",
      "hdf5 file found in  /Volumes/Extreme SSD/ini_automation_lensed_image2/outdir_70_mc_13_q_0p9_time_1245971620/result/label_index_70_mc_13_q_0p9_time_1245971620_data0_1245971620-6246083_analysis_H1L1V1_result.hdf5\n",
      "copied /Volumes/Extreme SSD/ini_automation_lensed_image2/outdir_70_mc_13_q_0p9_time_1245971620/result/label_index_70_mc_13_q_0p9_time_1245971620_data0_1245971620-6246083_analysis_H1L1V1_result.hdf5 to /Users/phurailatpamhemantakumar/phd/mypackages/pobs/processed_data/pe_results/lensed/image2/Mc_13.90_q_0.64_t_1245971620.62.hdf5\n",
      "hdf5 file found in  /Volumes/Extreme SSD/ini_automation_lensed_image2/outdir_71_mc_11_q_0p8_time_1267666213/result/label_index_71_mc_11_q_0p8_time_1267666213_data0_1267666213-498501_analysis_H1L1V1_result.hdf5\n",
      "copied /Volumes/Extreme SSD/ini_automation_lensed_image2/outdir_71_mc_11_q_0p8_time_1267666213/result/label_index_71_mc_11_q_0p8_time_1267666213_data0_1267666213-498501_analysis_H1L1V1_result.hdf5 to /Users/phurailatpamhemantakumar/phd/mypackages/pobs/processed_data/pe_results/lensed/image2/Mc_11.85_q_0.75_t_1267666213.50.hdf5\n",
      "hdf5 file found in  /Volumes/Extreme SSD/ini_automation_lensed_image2/outdir_77_mc_17_q_0p9_time_1239137862/result/label_index_77_mc_17_q_0p9_time_1239137862_data0_1239137862-7442608_analysis_H1L1V1_result.hdf5\n",
      "copied /Volumes/Extreme SSD/ini_automation_lensed_image2/outdir_77_mc_17_q_0p9_time_1239137862/result/label_index_77_mc_17_q_0p9_time_1239137862_data0_1239137862-7442608_analysis_H1L1V1_result.hdf5 to /Users/phurailatpamhemantakumar/phd/mypackages/pobs/processed_data/pe_results/lensed/image2/Mc_17.36_q_0.85_t_1239137862.74.hdf5\n",
      "hdf5 file found in  /Volumes/Extreme SSD/ini_automation_lensed_image2/outdir_80_mc_10_q_0p9_time_1271509297/result/label_index_80_mc_10_q_0p9_time_1271509297_data0_1271509297-5041_analysis_H1L1V1_result.hdf5\n",
      "copied /Volumes/Extreme SSD/ini_automation_lensed_image2/outdir_80_mc_10_q_0p9_time_1271509297/result/label_index_80_mc_10_q_0p9_time_1271509297_data0_1271509297-5041_analysis_H1L1V1_result.hdf5 to /Users/phurailatpamhemantakumar/phd/mypackages/pobs/processed_data/pe_results/lensed/image2/Mc_10.82_q_0.72_t_1271509297.50.hdf5\n",
      "hdf5 file found in  /Volumes/Extreme SSD/ini_automation_lensed_image2/outdir_82_mc_19_q_0p8_time_1271620613/result/label_index_82_mc_19_q_0p8_time_1271620613_data0_1271620613-3084743_analysis_H1L1V1_result.hdf5\n",
      "copied /Volumes/Extreme SSD/ini_automation_lensed_image2/outdir_82_mc_19_q_0p8_time_1271620613/result/label_index_82_mc_19_q_0p8_time_1271620613_data0_1271620613-3084743_analysis_H1L1V1_result.hdf5 to /Users/phurailatpamhemantakumar/phd/mypackages/pobs/processed_data/pe_results/lensed/image2/Mc_19.95_q_0.71_t_1271620613.31.hdf5\n",
      "hdf5 file found in  /Volumes/Extreme SSD/ini_automation_lensed_image2/outdir_84_mc_18_q_0p9_time_1265515062/result/label_index_84_mc_18_q_0p9_time_1265515062_data0_1265515062-695371_analysis_H1L1V1_result.hdf5\n",
      "copied /Volumes/Extreme SSD/ini_automation_lensed_image2/outdir_84_mc_18_q_0p9_time_1265515062/result/label_index_84_mc_18_q_0p9_time_1265515062_data0_1265515062-695371_analysis_H1L1V1_result.hdf5 to /Users/phurailatpamhemantakumar/phd/mypackages/pobs/processed_data/pe_results/lensed/image2/Mc_19.03_q_0.81_t_1265515062.70.hdf5\n",
      "hdf5 file found in  /Volumes/Extreme SSD/ini_automation_lensed_image2/outdir_89_mc_15_q_0p8_time_1241150984/result/label_index_89_mc_15_q_0p8_time_1241150984_data0_1241150984-6891239_analysis_H1L1V1_result.hdf5\n",
      "copied /Volumes/Extreme SSD/ini_automation_lensed_image2/outdir_89_mc_15_q_0p8_time_1241150984/result/label_index_89_mc_15_q_0p8_time_1241150984_data0_1241150984-6891239_analysis_H1L1V1_result.hdf5 to /Users/phurailatpamhemantakumar/phd/mypackages/pobs/processed_data/pe_results/lensed/image2/Mc_15.32_q_0.58_t_1241150984.66.hdf5\n",
      "hdf5 file found in  /Volumes/Extreme SSD/ini_automation_lensed_image2/outdir_101_mc_18_q_0p9_time_1239201122/result/label_index_101_mc_18_q_0p9_time_1239201122_data0_1239201122-9868908_analysis_H1L1V1_result.hdf5\n",
      "copied /Volumes/Extreme SSD/ini_automation_lensed_image2/outdir_101_mc_18_q_0p9_time_1239201122/result/label_index_101_mc_18_q_0p9_time_1239201122_data0_1239201122-9868908_analysis_H1L1V1_result.hdf5 to /Users/phurailatpamhemantakumar/phd/mypackages/pobs/processed_data/pe_results/lensed/image2/Mc_18.45_q_0.64_t_1239201122.99.hdf5\n",
      "hdf5 file found in  /Volumes/Extreme SSD/ini_automation_lensed_image2/outdir_112_mc_19_q_0p9_time_1261336388/result/label_index_112_mc_19_q_0p9_time_1261336388_data0_1261336388-0301874_analysis_H1L1V1_result.hdf5\n",
      "copied /Volumes/Extreme SSD/ini_automation_lensed_image2/outdir_112_mc_19_q_0p9_time_1261336388/result/label_index_112_mc_19_q_0p9_time_1261336388_data0_1261336388-0301874_analysis_H1L1V1_result.hdf5 to /Users/phurailatpamhemantakumar/phd/mypackages/pobs/processed_data/pe_results/lensed/image2/Mc_19.83_q_0.72_t_1261336388.03.hdf5\n",
      "hdf5 file found in  /Volumes/Extreme SSD/ini_automation_lensed_image2/outdir_118_mc_15_q_0p9_time_1250329010/result/label_index_118_mc_15_q_0p9_time_1250329010_data0_1250329010-6606934_analysis_H1L1V1_result.hdf5\n",
      "copied /Volumes/Extreme SSD/ini_automation_lensed_image2/outdir_118_mc_15_q_0p9_time_1250329010/result/label_index_118_mc_15_q_0p9_time_1250329010_data0_1250329010-6606934_analysis_H1L1V1_result.hdf5 to /Users/phurailatpamhemantakumar/phd/mypackages/pobs/processed_data/pe_results/lensed/image2/Mc_16.11_q_0.84_t_1250329010.66.hdf5\n",
      "hdf5 file found in  /Volumes/Extreme SSD/ini_automation_lensed_image2/outdir_67_mc_24_q_0p9_time_1264432875/result/label_index_67_mc_24_q_0p9_time_1264432875_data0_1264432875-588205_analysis_H1L1V1_result.hdf5\n",
      "copied /Volumes/Extreme SSD/ini_automation_lensed_image2/outdir_67_mc_24_q_0p9_time_1264432875/result/label_index_67_mc_24_q_0p9_time_1264432875_data0_1264432875-588205_analysis_H1L1V1_result.hdf5 to /Users/phurailatpamhemantakumar/phd/mypackages/pobs/processed_data/pe_results/lensed/image2/Mc_24.85_q_0.84_t_1264432875.59.hdf5\n",
      "hdf5 file found in  /Volumes/Extreme SSD/ini_automation_lensed_image2/outdir_66_mc_61_q_0p9_time_1239419186/result/label_index_66_mc_61_q_0p9_time_1239419186_data0_1239419186-1844041_analysis_H1L1V1_result.hdf5\n",
      "copied /Volumes/Extreme SSD/ini_automation_lensed_image2/outdir_66_mc_61_q_0p9_time_1239419186/result/label_index_66_mc_61_q_0p9_time_1239419186_data0_1239419186-1844041_analysis_H1L1V1_result.hdf5 to /Users/phurailatpamhemantakumar/phd/mypackages/pobs/processed_data/pe_results/lensed/image2/Mc_58.87_q_0.84_t_1239419186.19.hdf5\n",
      "hdf5 file found in  /Volumes/Extreme SSD/ini_automation_lensed_image2/outdir_65_mc_35_q_0p6_time_1257251109/result/label_index_65_mc_35_q_0p6_time_1257251109_data0_1257251109-951744_analysis_H1L1V1_result.hdf5\n",
      "copied /Volumes/Extreme SSD/ini_automation_lensed_image2/outdir_65_mc_35_q_0p6_time_1257251109/result/label_index_65_mc_35_q_0p6_time_1257251109_data0_1257251109-951744_analysis_H1L1V1_result.hdf5 to /Users/phurailatpamhemantakumar/phd/mypackages/pobs/processed_data/pe_results/lensed/image2/Mc_36.24_q_0.76_t_1257251109.95.hdf5\n",
      "hdf5 file found in  /Volumes/Extreme SSD/ini_automation_lensed_image2/outdir_64_mc_73_q_0p5_time_1265030560/result/label_index_64_mc_73_q_0p5_time_1265030560_data0_1265030560-4403524_analysis_H1L1V1_result.hdf5\n",
      "copied /Volumes/Extreme SSD/ini_automation_lensed_image2/outdir_64_mc_73_q_0p5_time_1265030560/result/label_index_64_mc_73_q_0p5_time_1265030560_data0_1265030560-4403524_analysis_H1L1V1_result.hdf5 to /Users/phurailatpamhemantakumar/phd/mypackages/pobs/processed_data/pe_results/lensed/image2/Mc_74.95_q_0.84_t_1265030560.44.hdf5\n",
      "hdf5 file found in  /Volumes/Extreme SSD/ini_automation_lensed_image2/outdir_63_mc_44_q_0p8_time_1255908546/result/label_index_63_mc_44_q_0p8_time_1255908546_data0_1255908546-9435341_analysis_H1L1V1_result.hdf5\n",
      "copied /Volumes/Extreme SSD/ini_automation_lensed_image2/outdir_63_mc_44_q_0p8_time_1255908546/result/label_index_63_mc_44_q_0p8_time_1255908546_data0_1255908546-9435341_analysis_H1L1V1_result.hdf5 to /Users/phurailatpamhemantakumar/phd/mypackages/pobs/processed_data/pe_results/lensed/image2/Mc_54.66_q_0.74_t_1255908546.94.hdf5\n",
      "hdf5 file found in  /Volumes/Extreme SSD/ini_automation_lensed_image2/outdir_62_mc_71_q_0p8_time_1259205867/result/label_index_62_mc_71_q_0p8_time_1259205867_data0_1259205867-0280726_analysis_H1L1V1_result.hdf5\n",
      "copied /Volumes/Extreme SSD/ini_automation_lensed_image2/outdir_62_mc_71_q_0p8_time_1259205867/result/label_index_62_mc_71_q_0p8_time_1259205867_data0_1259205867-0280726_analysis_H1L1V1_result.hdf5 to /Users/phurailatpamhemantakumar/phd/mypackages/pobs/processed_data/pe_results/lensed/image2/Mc_76.66_q_0.80_t_1259205867.03.hdf5\n",
      "hdf5 file found in  /Volumes/Extreme SSD/ini_automation_lensed_image2/outdir_61_mc_48_q_0p6_time_1248742146/result/label_index_61_mc_48_q_0p6_time_1248742146_data0_1248742146-860801_analysis_H1L1V1_result.hdf5\n",
      "copied /Volumes/Extreme SSD/ini_automation_lensed_image2/outdir_61_mc_48_q_0p6_time_1248742146/result/label_index_61_mc_48_q_0p6_time_1248742146_data0_1248742146-860801_analysis_H1L1V1_result.hdf5 to /Users/phurailatpamhemantakumar/phd/mypackages/pobs/processed_data/pe_results/lensed/image2/Mc_47.70_q_0.47_t_1248742146.86.hdf5\n",
      "hdf5 file found in  /Volumes/Extreme SSD/ini_automation_lensed_image2/outdir_60_mc_22_q_0p8_time_1257947987/result/label_index_60_mc_22_q_0p8_time_1257947987_data0_1257947987-9455016_analysis_H1L1V1_result.hdf5\n",
      "copied /Volumes/Extreme SSD/ini_automation_lensed_image2/outdir_60_mc_22_q_0p8_time_1257947987/result/label_index_60_mc_22_q_0p8_time_1257947987_data0_1257947987-9455016_analysis_H1L1V1_result.hdf5 to /Users/phurailatpamhemantakumar/phd/mypackages/pobs/processed_data/pe_results/lensed/image2/Mc_23.05_q_0.76_t_1257947987.94.hdf5\n",
      "hdf5 file found in  /Volumes/Extreme SSD/ini_automation_lensed_image2/outdir_59_mc_63_q_0p7_time_1266267743/result/label_index_59_mc_63_q_0p7_time_1266267743_data0_1266267743-7988966_analysis_H1L1V1_result.hdf5\n",
      "copied /Volumes/Extreme SSD/ini_automation_lensed_image2/outdir_59_mc_63_q_0p7_time_1266267743/result/label_index_59_mc_63_q_0p7_time_1266267743_data0_1266267743-7988966_analysis_H1L1V1_result.hdf5 to /Users/phurailatpamhemantakumar/phd/mypackages/pobs/processed_data/pe_results/lensed/image2/Mc_61.64_q_0.81_t_1266267743.80.hdf5\n",
      "hdf5 file found in  /Volumes/Extreme SSD/ini_automation_lensed_image2/outdir_58_mc_24_q_0p8_time_1253923103/result/label_index_58_mc_24_q_0p8_time_1253923103_data0_1253923103-8935935_analysis_H1L1V1_result.hdf5\n",
      "copied /Volumes/Extreme SSD/ini_automation_lensed_image2/outdir_58_mc_24_q_0p8_time_1253923103/result/label_index_58_mc_24_q_0p8_time_1253923103_data0_1253923103-8935935_analysis_H1L1V1_result.hdf5 to /Users/phurailatpamhemantakumar/phd/mypackages/pobs/processed_data/pe_results/lensed/image2/Mc_24.34_q_0.77_t_1253923103.89.hdf5\n",
      "hdf5 file found in  /Volumes/Extreme SSD/ini_automation_lensed_image2/outdir_57_mc_29_q_0p7_time_1253143364/result/label_index_57_mc_29_q_0p7_time_1253143364_data0_1253143364-2292056_analysis_H1L1V1_result.hdf5\n",
      "copied /Volumes/Extreme SSD/ini_automation_lensed_image2/outdir_57_mc_29_q_0p7_time_1253143364/result/label_index_57_mc_29_q_0p7_time_1253143364_data0_1253143364-2292056_analysis_H1L1V1_result.hdf5 to /Users/phurailatpamhemantakumar/phd/mypackages/pobs/processed_data/pe_results/lensed/image2/Mc_29.23_q_0.62_t_1253143364.23.hdf5\n",
      "hdf5 file found in  /Volumes/Extreme SSD/ini_automation_lensed_image2/outdir_56_mc_27_q_0p9_time_1260246144/result/label_index_56_mc_27_q_0p9_time_1260246144_data0_1260246144-2894971_analysis_H1L1V1_result.hdf5\n",
      "copied /Volumes/Extreme SSD/ini_automation_lensed_image2/outdir_56_mc_27_q_0p9_time_1260246144/result/label_index_56_mc_27_q_0p9_time_1260246144_data0_1260246144-2894971_analysis_H1L1V1_result.hdf5 to /Users/phurailatpamhemantakumar/phd/mypackages/pobs/processed_data/pe_results/lensed/image2/Mc_28.20_q_0.82_t_1260246144.29.hdf5\n",
      "hdf5 file found in  /Volumes/Extreme SSD/ini_automation_lensed_image2/outdir_55_mc_68_q_0p4_time_1243437218/result/label_index_55_mc_68_q_0p4_time_1243437218_data0_1243437218-8028026_analysis_H1L1V1_result.hdf5\n",
      "copied /Volumes/Extreme SSD/ini_automation_lensed_image2/outdir_55_mc_68_q_0p4_time_1243437218/result/label_index_55_mc_68_q_0p4_time_1243437218_data0_1243437218-8028026_analysis_H1L1V1_result.hdf5 to /Users/phurailatpamhemantakumar/phd/mypackages/pobs/processed_data/pe_results/lensed/image2/Mc_70.33_q_0.72_t_1243437218.80.hdf5\n",
      "hdf5 file found in  /Volumes/Extreme SSD/ini_automation_lensed_image2/outdir_54_mc_32_q_0p9_time_1264812690/result/label_index_54_mc_32_q_0p9_time_1264812690_data0_1264812690-08616_analysis_H1L1V1_result.hdf5\n",
      "copied /Volumes/Extreme SSD/ini_automation_lensed_image2/outdir_54_mc_32_q_0p9_time_1264812690/result/label_index_54_mc_32_q_0p9_time_1264812690_data0_1264812690-08616_analysis_H1L1V1_result.hdf5 to /Users/phurailatpamhemantakumar/phd/mypackages/pobs/processed_data/pe_results/lensed/image2/Mc_31.23_q_0.87_t_1264812690.09.hdf5\n",
      "hdf5 file found in  /Volumes/Extreme SSD/ini_automation_lensed_image2/outdir_53_mc_75_q_0p8_time_1266946741/result/label_index_53_mc_75_q_0p8_time_1266946741_data0_1266946741-8649652_analysis_H1L1V1_result.hdf5\n",
      "copied /Volumes/Extreme SSD/ini_automation_lensed_image2/outdir_53_mc_75_q_0p8_time_1266946741/result/label_index_53_mc_75_q_0p8_time_1266946741_data0_1266946741-8649652_analysis_H1L1V1_result.hdf5 to /Users/phurailatpamhemantakumar/phd/mypackages/pobs/processed_data/pe_results/lensed/image2/Mc_79.83_q_0.84_t_1266946741.86.hdf5\n",
      "hdf5 file found in  /Volumes/Extreme SSD/ini_automation_lensed_image2/outdir_52_mc_41_q_0p8_time_1258943542/result/label_index_52_mc_41_q_0p8_time_1258943542_data0_1258943542-8309572_analysis_H1L1V1_result.hdf5\n",
      "copied /Volumes/Extreme SSD/ini_automation_lensed_image2/outdir_52_mc_41_q_0p8_time_1258943542/result/label_index_52_mc_41_q_0p8_time_1258943542_data0_1258943542-8309572_analysis_H1L1V1_result.hdf5 to /Users/phurailatpamhemantakumar/phd/mypackages/pobs/processed_data/pe_results/lensed/image2/Mc_41.38_q_0.79_t_1258943542.83.hdf5\n",
      "hdf5 file found in  /Volumes/Extreme SSD/ini_automation_lensed_image2/outdir_50_mc_38_q_0p7_time_1243379290/result/label_index_50_mc_38_q_0p7_time_1243379290_data0_1243379290-4905274_analysis_H1L1V1_result.hdf5\n",
      "copied /Volumes/Extreme SSD/ini_automation_lensed_image2/outdir_50_mc_38_q_0p7_time_1243379290/result/label_index_50_mc_38_q_0p7_time_1243379290_data0_1243379290-4905274_analysis_H1L1V1_result.hdf5 to /Users/phurailatpamhemantakumar/phd/mypackages/pobs/processed_data/pe_results/lensed/image2/Mc_38.00_q_0.65_t_1243379290.49.hdf5\n",
      "hdf5 file found in  /Volumes/Extreme SSD/ini_automation_lensed_image2/outdir_49_mc_50_q_0p9_time_1252592088/result/label_index_49_mc_50_q_0p9_time_1252592088_data0_1252592088-136487_analysis_H1L1V1_result.hdf5\n",
      "copied /Volumes/Extreme SSD/ini_automation_lensed_image2/outdir_49_mc_50_q_0p9_time_1252592088/result/label_index_49_mc_50_q_0p9_time_1252592088_data0_1252592088-136487_analysis_H1L1V1_result.hdf5 to /Users/phurailatpamhemantakumar/phd/mypackages/pobs/processed_data/pe_results/lensed/image2/Mc_47.38_q_0.76_t_1252592088.14.hdf5\n",
      "hdf5 file found in  /Volumes/Extreme SSD/ini_automation_lensed_image2/outdir_48_mc_68_q_0p9_time_1259042827/result/label_index_48_mc_68_q_0p9_time_1259042827_data0_1259042827-6386375_analysis_H1L1V1_result.hdf5\n",
      "copied /Volumes/Extreme SSD/ini_automation_lensed_image2/outdir_48_mc_68_q_0p9_time_1259042827/result/label_index_48_mc_68_q_0p9_time_1259042827_data0_1259042827-6386375_analysis_H1L1V1_result.hdf5 to /Users/phurailatpamhemantakumar/phd/mypackages/pobs/processed_data/pe_results/lensed/image2/Mc_66.85_q_0.78_t_1259042827.64.hdf5\n",
      "hdf5 file found in  /Volumes/Extreme SSD/ini_automation_lensed_image2/outdir_47_mc_22_q_0p8_time_1258709962/result/label_index_47_mc_22_q_0p8_time_1258709962_data0_1258709962-1275165_analysis_H1L1V1_result.hdf5\n",
      "copied /Volumes/Extreme SSD/ini_automation_lensed_image2/outdir_47_mc_22_q_0p8_time_1258709962/result/label_index_47_mc_22_q_0p8_time_1258709962_data0_1258709962-1275165_analysis_H1L1V1_result.hdf5 to /Users/phurailatpamhemantakumar/phd/mypackages/pobs/processed_data/pe_results/lensed/image2/Mc_22.70_q_0.70_t_1258709962.13.hdf5\n"
     ]
    }
   ],
   "source": [
    "# dir1='/Volumes/Extreme SSD/ini_automation_lensed_image2/'\n",
    "dir1='/Volumes/Extreme SSD/ini_automation/'\n",
    "files = os.listdir(dir1)\n",
    "files = [f for f in files if os.path.isdir(os.path.join(dir1, f))]\n",
    "\n",
    "file_final = []\n",
    "for file in files:\n",
    "    dir2 = dir1 + file + '/result/'\n",
    "    # check for hdf5 file\n",
    "    files_ = os.listdir(dir2)\n",
    "    files_ = [f for f in files_ if f.endswith('.hdf5')]\n",
    "    if len(files_) == 0:\n",
    "        print('No hdf5 file found in ', dir2)\n",
    "    else:\n",
    "       result_file = dir2 + files_[0]\n",
    "       print('hdf5 file found in ', result_file)\n",
    "       save_hdf5_to_dir(result_file)"
   ]
  },
  {
   "cell_type": "code",
   "execution_count": null,
   "metadata": {},
   "outputs": [
    {
     "name": "stderr",
     "output_type": "stream",
     "text": [
      "cp: test.hdf5 is not a directory\n"
     ]
    },
    {
     "data": {
      "text/plain": [
       "256"
      ]
     },
     "execution_count": 13,
     "metadata": {},
     "output_type": "execute_result"
    }
   ],
   "source": [
    "result_file = 'dir/original_test.hdf5'\n",
    "os.system(f'cp {result_file} {\"test.hdf5\"}')"
   ]
  },
  {
   "cell_type": "code",
   "execution_count": 14,
   "metadata": {},
   "outputs": [
    {
     "data": {
      "text/plain": [
       "'./test.hdf5'"
      ]
     },
     "execution_count": 14,
     "metadata": {},
     "output_type": "execute_result"
    }
   ],
   "source": [
    "import shutil\n",
    "shutil.copy(result_file, \"./test.hdf5\")"
   ]
  },
  {
   "cell_type": "code",
   "execution_count": 17,
   "metadata": {},
   "outputs": [
    {
     "data": {
      "text/plain": [
       "array([95.66796915, 92.5427958 , 73.25429125, ..., 75.00455182,\n",
       "       78.72574806, 74.28412197])"
      ]
     },
     "execution_count": 17,
     "metadata": {},
     "output_type": "execute_result"
    }
   ],
   "source": [
    "test = load_hdf5('test.hdf5')\n",
    "np.array(test['posterior']['mass_1'])"
   ]
  },
  {
   "cell_type": "code",
   "execution_count": null,
   "metadata": {},
   "outputs": [],
   "source": []
  }
 ],
 "metadata": {
  "kernelspec": {
   "display_name": "ler",
   "language": "python",
   "name": "ler"
  },
  "language_info": {
   "codemirror_mode": {
    "name": "ipython",
    "version": 3
   },
   "file_extension": ".py",
   "mimetype": "text/x-python",
   "name": "python",
   "nbconvert_exporter": "python",
   "pygments_lexer": "ipython3",
   "version": "3.10.14"
  }
 },
 "nbformat": 4,
 "nbformat_minor": 2
}
